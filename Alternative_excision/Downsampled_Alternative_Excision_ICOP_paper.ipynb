{
 "cells": [
  {
   "cell_type": "markdown",
   "id": "1452e108",
   "metadata": {},
   "source": [
    "# Alternative excision analysis\n",
    "\n",
    "### Aim\n",
    "Analyze genome-wide alternative excision in ICOP knockdowns and compare them with the puplished data of the ISWI1 knockdown. New KDs analyzed in this notebook: ICOP1-KD, ICOP2-KD, ICOP1_2-KD, ND7-KD\n",
    "\n",
    "### Input\n",
    "new enriched MAC DNA was send for whole genome sequencing. In the PARTIES pipeline the MILROD module (old one from PIES) was run on the bowtie mapped .bam files. Output is a .gff3 file that was zipped using gzip command.\n",
    "\n",
    "### What this notebook does\n",
    "1. Histogram of genome-wide alternative excision per IES (%)\n",
    "2. Historgam of length distribution of alternatively excised IES in each sample\n",
    "3. Barplot of absolute numbers of alternative excision events in each sample\n",
    "4. Barplot of percentage of alternative excision events in each sample \n",
    "5. Histogram of length differences in partial internal and partial external excision events"
   ]
  },
  {
   "cell_type": "markdown",
   "id": "24a7d6a4",
   "metadata": {},
   "source": [
    "### Import required packages"
   ]
  },
  {
   "cell_type": "code",
   "execution_count": 1,
   "id": "e11d88a1",
   "metadata": {},
   "outputs": [],
   "source": [
    "#!/usr/bin/env python\n",
    "\n",
    "import sys\n",
    "#from sys import argv\n",
    "from Bio import SeqIO, Seq\n",
    "from re import compile\n",
    "import gzip\n",
    "from scipy import *\n",
    "from matplotlib import * \n",
    "import matplotlib.pyplot as plt\n",
    "from pylab import * \n",
    "#from scipy import stats\n",
    "from collections import OrderedDict\n",
    "import numpy as np\n",
    "import pandas as pd\n",
    "#import gffpandas.gffpandas as gffpd\n",
    "from functools import reduce"
   ]
  },
  {
   "cell_type": "markdown",
   "id": "6733aee1",
   "metadata": {},
   "source": [
    "## Genome-wide alternative excision per IES (%)"
   ]
  },
  {
   "cell_type": "code",
   "execution_count": 29,
   "id": "f1dcfe0b",
   "metadata": {},
   "outputs": [
    {
     "name": "stdout",
     "output_type": "stream",
     "text": [
      "       sample    median       mean  all IES  IES==0  IES>0  IES>=50  IES==100\n",
      "0     CTRL-KD  0.000000   2.588665    41311   39164   2147      944       631\n",
      "1    ISWI1-KD  4.545455  10.856721    43983   18222  25761     1963       812\n",
      "2    ICOP1-KD  0.000000   8.968224    42237   28106  14131     2244       888\n",
      "3    ICOP2-KD  0.000000   5.997431    41573   34036   7537     1694       788\n",
      "4  ICOP1/2-KD  0.000000   6.525131    41767   33870   7897     1991       795\n"
     ]
    }
   ],
   "source": [
    "#this script analyses the percentage of alternative excision for each IES\n",
    "# incoorperate storage of alternative excision in data frames\n",
    "\n",
    "kd_alt_fracs = []\n",
    "fns = [\"ND7_down_MILORD.gff3.gz\",\"ISWI1_down_MILORD.gff3.gz\",\"ICOP1_down_MILORD.gff3.gz\",\n",
    "       \"ICOP2_down_MILORD.gff3.gz\", \"ICOP1_2_MILORD.gff3.gz\"]\n",
    "names = [\"CTRL-KD\",\"ISWI1-KD\",\"ICOP1-KD\", \"ICOP2-KD\", \"ICOP1/2-KD\"]\n",
    "\n",
    "count = int(-1)\n",
    "dfs = []\n",
    "columns = []\n",
    "\n",
    "#loop through samples\n",
    "for fn in fns:\n",
    "    count += 1\n",
    "    ies_d = {}\n",
    "    alt_d = {}\n",
    "    \n",
    "    #for each line acquire the stored data\n",
    "    for line in gzip.open(fn, mode='rt'):\n",
    "        if line[0] != '#':\n",
    "            atoms = line.split()  \n",
    "            \n",
    "            ies_id = atoms[-1].split(\";\")[5].replace(\"ies_id=\", '')\n",
    "            kind = atoms[-1].split(\";\")[-2].replace(\"type=\", '')\n",
    "\n",
    "            #for each properly excised IES store the number of reads\n",
    "            if kind == 'IES':\n",
    "                read_names = atoms[-1].split(\";\")[10].replace(\"read_names=\", '').split(\",\")\n",
    "                ies_d.setdefault(ies_id, 0)\n",
    "                ies_d[ies_id] += len(read_names)\n",
    "                alt_d.setdefault(ies_id, 0)\n",
    "            #for each alternatively excised IES store the number of reads (adds up for subtypes)\n",
    "            elif kind == 'ALTERNATIVE':\n",
    "                read_names = atoms[-1].split(\";\")[10].replace(\"read_names=\", '').split(\",\")\n",
    "                alt_d.setdefault(ies_id, 0)\n",
    "                alt_d[ies_id] += len(read_names)\n",
    "                ies_d.setdefault(ies_id, 0)\n",
    "    \n",
    "    # create a big data frame with all read counts\n",
    "    # data frame with standard excised reads for sample\n",
    "    df_ies = pd.DataFrame.from_dict(ies_d, orient = 'index', columns = [f'{names[count]}_std'])\n",
    "    df_ies = df_ies.reset_index().rename(columns={'index': 'IES_ID'})\n",
    "    \n",
    "    # data frame with alternatively excised reads for sample\n",
    "    df_alt = pd.DataFrame.from_dict(alt_d, orient = 'index', columns = [f'{names[count]}_alt'])\n",
    "    df_alt = df_alt.reset_index().rename(columns={'index': 'IES_ID'})\n",
    "    \n",
    "    # combine to one data frame per sample \n",
    "    df_data = pd.DataFrame.merge(df_ies, df_alt, on='IES_ID', how = 'outer')\n",
    "    # calculate alternative excision percentage for each IES in the sample\n",
    "    df_data[f\"{names[count]}_frac\"] = ((df_data[f'{names[count]}_alt'])/(df_data[f'{names[count]}_alt']\\\n",
    "                                                                        +df_data[f'{names[count]}_std']))*100\n",
    "    # store sample data frame in list\n",
    "    dfs.append(df_data)\n",
    "    \n",
    "    # generate metrics to print as table \n",
    "    colnames = ['sample','median', 'mean', 'all IES','IES==0', 'IES>0','IES>=50','IES==100']\n",
    "    columns.append([names[count], median(df_data[f\"{names[count]}_frac\"]),\n",
    "                    mean(df_data[f\"{names[count]}_frac\"]), len(ies_d), \n",
    "                    len(df_data[df_data[f\"{names[count]}_frac\"]== 0]),\n",
    "                    len(df_data[df_data[f\"{names[count]}_frac\"] > 0]), \n",
    "                    len(df_data[df_data[f\"{names[count]}_frac\"] >= 50]),\n",
    "                    len(df_data[df_data[f\"{names[count]}_frac\"] == 100])])\n",
    "    \n",
    "    \n",
    "# combine all samples into one big data frame\n",
    "df = reduce(lambda left,right: pd.merge(left,right,on=['IES_ID'], how='outer'), dfs).fillna(np.nan)\n",
    "\n",
    "    \n",
    "\n",
    "table = pd.DataFrame(columns, columns = colnames)\n",
    "print(table)\n",
    "\n",
    "table.to_csv(\"statistics_alt-ex.csv\")"
   ]
  },
  {
   "cell_type": "code",
   "execution_count": 3,
   "id": "22448bc0",
   "metadata": {},
   "outputs": [
    {
     "data": {
      "image/png": "[encoded data removed]",
      "text/plain": [
       "<Figure size 792x504 with 1 Axes>"
      ]
     },
     "metadata": {
      "needs_background": "light"
     },
     "output_type": "display_data"
    }
   ],
   "source": [
    "#plot the genome-wide alternative excision distribution (non-cropped)\n",
    "\n",
    "# retrive fraction data\n",
    "fractions = []\n",
    "for na in names:\n",
    "    fraction = df[f\"{na}_frac\"]\n",
    "    fractions.append(fraction)\n",
    "    \n",
    "labels = [\"CTRL-KD\",\"ISWI1-KD\",\"ICOP1-KD\", \"ICOP2-KD\", \"ICOP1/2-KD\"]\n",
    "\n",
    "plt.figure(figsize=(11,7))\n",
    "hist(fractions, bins=20, ec='white', log=False, \n",
    "     color=['green', 'navy', 'sienna', 'orange', 'red'],\n",
    "     label=labels)\n",
    "axis(ymax=41000, xmax=100, xmin=0)\n",
    "plt.ylabel(\"Number of IESs\", wrap = True, fontsize = 20)\n",
    "plt.xlabel(\"alternative excision (%)\", wrap = True, fontsize = 20)\n",
    "plt.xticks(fontsize=20)\n",
    "plt.yticks(fontsize=20)\n",
    "plt.legend(fontsize = 27);\n",
    "\n",
    "\n",
    "plt.savefig(\"ICOPs_alt-ex_100_down.pdf\", bbox_inches='tight')"
   ]
  },
  {
   "cell_type": "code",
   "execution_count": 4,
   "id": "6115784e",
   "metadata": {},
   "outputs": [
    {
     "data": {
      "image/png": "[encoded data removed]",
      "text/plain": [
       "<Figure size 792x504 with 1 Axes>"
      ]
     },
     "metadata": {
      "needs_background": "light"
     },
     "output_type": "display_data"
    }
   ],
   "source": [
    "#plot the genome-wide alternative excision distribution (cropped)\n",
    "\n",
    "plt.figure(figsize=(11,7))\n",
    "hist(fractions, bins=20, ec='white', log=False, \n",
    "     color=['green', 'navy', 'sienna', 'orange', 'red'],\n",
    "     label=labels)\n",
    "axis(ymax=10000, xmax=100, xmin=0)\n",
    "plt.ylabel(\"Number of IESs\", wrap = True, fontsize = 20)\n",
    "plt.xlabel(\"alternative excision (%)\", wrap = True, fontsize = 20)\n",
    "plt.xticks(fontsize=20)\n",
    "plt.yticks(fontsize=20)\n",
    "plt.legend(fontsize = 20);\n",
    "\n",
    "\n",
    "plt.savefig(\"ICOPs_alt-ex_100_downS.pdf\", bbox_inches='tight')"
   ]
  },
  {
   "cell_type": "markdown",
   "id": "514a00b7",
   "metadata": {},
   "source": [
    "### Length distribution for alternatively excised IESs"
   ]
  },
  {
   "cell_type": "code",
   "execution_count": 5,
   "id": "23e4bb27",
   "metadata": {},
   "outputs": [],
   "source": [
    "#this script acquires the lengths of alternatively excised IESs\n",
    "\n",
    "# create data frame with reference IES lengths\n",
    "df_length = pd.read_csv('IES_length.txt.gz',compression = 'gzip',sep=\" \",\\\n",
    "                        header=None, names=['IES_ID','ref_length'])\n",
    "\n",
    "dfs_len = OrderedDict([(na, []) for na in names])\n",
    "count = int(-1)\n",
    "\n",
    "#loop through the samples to get subtypes for alternative excision\n",
    "for fn in fns:\n",
    "    count += 1\n",
    "    ies_len = {}\n",
    "    alt_len = {}\n",
    "    \n",
    "    #for each line acquire the stored data\n",
    "    for line in gzip.open(fn, mode='rt'):\n",
    "        if line[0] != '#':\n",
    "            atoms = line.split()  \n",
    "            ies_id = atoms[-1].split(\";\")[5].replace(\"ies_id=\", '')\n",
    "            kind = atoms[-1].split(\";\")[-2].replace(\"type=\", '')\n",
    "            subtype = atoms[-1].split(\";\")[-5].replace(\"subtype=\", '')\n",
    "            \n",
    "            if kind == 'IES':\n",
    "                sequence = atoms[-1].split(\";\")[11].replace(\"sequence=\", '')\n",
    "                ies_len[ies_id] = len(sequence)\n",
    "            #for alternatively excised IES store the length of the alternative IES\n",
    "            elif kind == 'ALTERNATIVE':\n",
    "                sequence = atoms[-1].split(\";\")[11].replace(\"sequence=\", '')\n",
    "                alt_len.setdefault(ies_id, []).append(len(sequence))\n",
    "                \n",
    "    # data frame with alternative excised reads lengths for sample\n",
    "    df_allen = pd.DataFrame.from_dict(alt_len, orient = 'index')\n",
    "    df_allen = df_allen.reset_index().rename(columns={'index': 'IES_ID'})\n",
    "    \n",
    "    # combine to one data frame per sample \n",
    "    df_altlen = pd.DataFrame.merge(df_length, df_allen, on='IES_ID', how = 'inner')\n",
    "    \n",
    "    # store sample data frame in list\n",
    "    dfs_len[names[count]] = df_altlen\n"
   ]
  },
  {
   "cell_type": "code",
   "execution_count": 6,
   "id": "a010df90",
   "metadata": {},
   "outputs": [],
   "source": [
    "# extract the alternative lengths from the data frames\n",
    "\n",
    "# Create an empty dictionary to store the extracted values\n",
    "extracted_values = {}\n",
    "\n",
    "# get reference values\n",
    "extracted_values['ref_length'] = df_length['ref_length']\n",
    "\n",
    "# Iterate over each sample in the dictionary\n",
    "for sample_name, df in dfs_len.items():\n",
    "    # Extract values from the dataframe, ignoring the first two columns\n",
    "    extracted_values[sample_name] = df.iloc[:, 2:].values.flatten().tolist()\n",
    "\n",
    "    # Remove NaN values from the extracted list\n",
    "    extracted_values[sample_name] = [x for x in extracted_values[sample_name] if (~np.isnan(x))]"
   ]
  },
  {
   "cell_type": "code",
   "execution_count": 30,
   "id": "f273d7d1",
   "metadata": {},
   "outputs": [
    {
     "name": "stdout",
     "output_type": "stream",
     "text": [
      "       sample   min     max        mean  median\n",
      "0  ref_length  20.0  5314.0   79.129274    50.0\n",
      "1     CTRL-KD   9.0  9032.0  260.082198    76.0\n",
      "2    ISWI1-KD   5.0  9892.0  209.045451    73.0\n",
      "3    ICOP1-KD   6.0  9590.0  197.718871    67.0\n",
      "4    ICOP2-KD   5.0  9467.0  143.149613    65.0\n",
      "5  ICOP1/2-KD   5.0  9878.0  186.570144    67.0\n"
     ]
    }
   ],
   "source": [
    "# get statistics for the alternative lengths\n",
    "\n",
    "table_rows = []\n",
    "\n",
    "for name, values in extracted_values.items():\n",
    "    sample = name\n",
    "    minimum = min(values)\n",
    "    maxium = max(values)\n",
    "    \n",
    "    table_rows.append([name, min(values), max(values), np.mean(values), np.median(values)])\n",
    "    \n",
    "table_names = ['sample','min','max', 'mean', 'median']\n",
    "table2 = pd.DataFrame(table_rows, columns = table_names)\n",
    "print(table2)\n",
    "table2.to_csv(\"min-max_length_alt-ex.csv\")"
   ]
  },
  {
   "cell_type": "code",
   "execution_count": 19,
   "id": "e5cbc05e",
   "metadata": {
    "scrolled": false
   },
   "outputs": [
    {
     "data": {
      "image/png": "[encoded data removed]",
      "text/plain": [
       "<Figure size 864x792 with 6 Axes>"
      ]
     },
     "metadata": {
      "needs_background": "light"
     },
     "output_type": "display_data"
    }
   ],
   "source": [
    "# plot the lengths of alternatively excised IESs\n",
    "\n",
    "fig, (ax0, ax1, ax2, ax3, ax4, ax5) = plt.subplots(nrows=6, ncols=1, sharex=True, figsize = (12,11));\n",
    "\n",
    "ax0.hist(extracted_values['ref_length'], bins=range(20, 220, 1), ec='white', fc='black');\n",
    "ax1.hist(extracted_values[names[0]], bins=range(20, 220, 1), ec='white', fc='green', \n",
    "         label = \"CTRL-KD\");\n",
    "ax2.hist(extracted_values[names[1]], bins=range(20, 220, 1), ec='white', fc='navy', \n",
    "         label = \"ISWI1-KD\");\n",
    "ax3.hist(extracted_values[names[2]], bins=range(20, 220, 1), ec='white', fc='sienna', \n",
    "         label = \"ICOP1-KD\");\n",
    "ax4.hist(extracted_values[names[3]], bins=range(20, 220, 1), ec='white', fc='orange', \n",
    "         label = \"ICOP2-KD\");\n",
    "ax5.hist(extracted_values[names[4]], bins=range(20, 220, 1), ec='white', fc='red', \n",
    "         label = \"ICOP1/2-KD\");\n",
    "\n",
    "ax1.legend(fontsize=20);\n",
    "ax2.legend(fontsize=20);\n",
    "ax3.legend(fontsize=20);\n",
    "ax4.legend(fontsize=20);\n",
    "ax5.legend(fontsize=20);\n",
    "\n",
    "ax0.tick_params(axis='both', which='major', labelsize=20)\n",
    "ax1.tick_params(axis='both', which='major', labelsize=20)\n",
    "ax2.tick_params(axis='both', which='major', labelsize=20)\n",
    "ax3.tick_params(axis='both', which='major', labelsize=20)\n",
    "ax4.tick_params(axis='both', which='major', labelsize=20)\n",
    "ax5.tick_params(axis='both', which='major', labelsize=20)\n",
    "\n",
    "ax0.set_title(\"Standard IES excision\", fontsize=20)\n",
    "ax1.set_title(\"Alternative IES excision\", fontsize=20)\n",
    "\n",
    "ax5.set_xlabel('IES length [bp]', fontsize=25)\n",
    "ax5.set_xlim([20,220]);\n",
    "\n",
    "fig.text(0.00001, 0.5, 'Number of IESs', ha='center', va='center', fontsize=25, rotation='vertical');\n",
    "fig.tight_layout();\n",
    "\n",
    "fig.savefig(\"ICOPs_alt_length_down.pdf\", bbox_inches='tight')"
   ]
  },
  {
   "cell_type": "code",
   "execution_count": 9,
   "id": "1906a43c",
   "metadata": {},
   "outputs": [],
   "source": [
    "# where do the IESs in the forbidden peak come from?\n",
    "\n",
    "# Create an empty dictionary to store the extracted values\n",
    "forbidden_len = {}\n",
    "forbidden_id = {}\n",
    "\n",
    "# Iterate over each sample in the dictionary\n",
    "for sample_name, df in dfs_len.items():\n",
    "    # Initialize an empty list to store the extracted reference lengths\n",
    "    ref_lengths = []\n",
    "    ref_ids = []\n",
    "\n",
    "    # Iterate over each row in the dataframe\n",
    "    for index, row in df.iterrows():\n",
    "        # Iterate over each value in the row, starting from the third column\n",
    "        for value in row.values[2:]:\n",
    "            # Check if the value is between 34 and 44 (inclusive)\n",
    "            if 34 <= value <= 44:\n",
    "                # Retrieve the corresponding reference length from the second column\n",
    "                ref_length = row['ref_length']\n",
    "                ref_id = row['IES_ID']\n",
    "                # Append the reference length to the list\n",
    "                ref_lengths.append(ref_length)\n",
    "                ref_ids.append(ref_id)\n",
    "\n",
    "    # Store the extracted reference lengths in the dictionary using the sample name as the key\n",
    "    forbidden_len[sample_name] = ref_lengths\n",
    "    forbidden_id[sample_name] = ref_ids"
   ]
  },
  {
   "cell_type": "code",
   "execution_count": 18,
   "id": "650ba8dd",
   "metadata": {},
   "outputs": [
    {
     "data": {
      "image/png": "[encoded data removed]",
      "text/plain": [
       "<Figure size 576x792 with 6 Axes>"
      ]
     },
     "metadata": {
      "needs_background": "light"
     },
     "output_type": "display_data"
    }
   ],
   "source": [
    "# plot the lengths form where the forbidden peak comes from\n",
    "\n",
    "fig, (ax0, ax1, ax2, ax3, ax4, ax5) = plt.subplots(nrows=6, ncols=1, sharex=True, figsize = (8,11));\n",
    "\n",
    "ax0.hist(extracted_values['ref_length'], bins=range(20, 100, 1), ec='white', fc='black');\n",
    "ax1.hist(forbidden_len[names[0]], bins=range(20, 100, 1), ec='white', fc='green', \n",
    "         label = \"CTRL-KD\");\n",
    "ax2.hist(forbidden_len[names[1]], bins=range(20, 100, 1), ec='white', fc='navy', \n",
    "         label = \"ISWI1-KD\");\n",
    "ax3.hist(forbidden_len[names[2]], bins=range(20, 100, 1), ec='white', fc='sienna', \n",
    "         label = \"ICOP1-KD\");\n",
    "ax4.hist(forbidden_len[names[3]], bins=range(20, 100, 1), ec='white', fc='orange', \n",
    "         label = \"ICOP2-KD\");\n",
    "ax5.hist(forbidden_len[names[4]], bins=range(20, 100, 1), ec='white', fc='red', \n",
    "         label = \"ICOP1/2-KD\");\n",
    "\n",
    "ax1.legend(fontsize=20);\n",
    "ax2.legend(fontsize=20);\n",
    "ax3.legend(fontsize=20);\n",
    "ax4.legend(fontsize=20);\n",
    "ax5.legend(fontsize=20);\n",
    "\n",
    "ax0.tick_params(axis='both', which='major', labelsize=20)\n",
    "ax1.tick_params(axis='both', which='major', labelsize=20)\n",
    "ax2.tick_params(axis='both', which='major', labelsize=20)\n",
    "ax3.tick_params(axis='both', which='major', labelsize=20)\n",
    "ax4.tick_params(axis='both', which='major', labelsize=20)\n",
    "ax5.tick_params(axis='both', which='major', labelsize=20)\n",
    "\n",
    "ax0.set_title(\"Standard IES excision\", fontsize=20)\n",
    "ax1.set_title(\"Alternative IES excision\", fontsize=20)\n",
    "\n",
    "ax5.set_xlabel('IES length [bp]', fontsize=25)\n",
    "ax5.set_xlim([20,100]);\n",
    "\n",
    "fig.suptitle(\"Origin of forbidden peak\", fontsize=25);\n",
    "fig.text(0.00001, 0.5, 'Number of IESs', ha='center', va='center', fontsize=25, rotation='vertical');\n",
    "fig.tight_layout();\n",
    "\n",
    "fig.savefig(\"ICOPs_alt_length_down_oriFB.pdf\", bbox_inches='tight')"
   ]
  },
  {
   "cell_type": "markdown",
   "id": "cf85f84e",
   "metadata": {},
   "source": [
    "## Frequencies of alternative excision types\n",
    "This script get the numbers of types of alternative excsision in each sample and displays in barplot"
   ]
  },
  {
   "cell_type": "code",
   "execution_count": 11,
   "id": "4b6e09be",
   "metadata": {
    "scrolled": true
   },
   "outputs": [],
   "source": [
    "#this script acquires the type of alternative excision genome wide\n",
    "\n",
    "#fns = [\"ND7_down_MILORD.gff3.gz\",\"ISWI1_down_MILORD.gff3.gz\",\"ICOP1_down_MILORD.gff3.gz\",\n",
    "#       \"ICOP2_down_MILORD.gff3.gz\", \"ICOP1_2_MILORD.gff3.gz\"]\n",
    "#names = [\"ND7-KD\",\"ISWI1-KD\",\"ICOP1-KD\", \"ICOP2-KD\", \"ICOP1_2-KD\"]\n",
    "count = int(-1)\n",
    "\n",
    "#to have the date sorted by KDs also make a dict\n",
    "subs = OrderedDict([(na, []) for na in names])\n",
    "\n",
    "# lists for boxplot\n",
    "headers = []\n",
    "p_internal = []\n",
    "p_external = []\n",
    "internal = []\n",
    "external = []\n",
    "overlap = []\n",
    "\n",
    "#lists for proportional boxplots\n",
    "prop_p_internal = []\n",
    "prop_p_external = []\n",
    "prop_internal = []\n",
    "prop_external = []\n",
    "prop_overlap = []\n",
    "\n",
    "for fn in fns:\n",
    "    count += 1\n",
    "    part_in = 0\n",
    "    part_ex = 0\n",
    "    inter = 0\n",
    "    exter = 0\n",
    "    over = 0\n",
    "    for line in gzip.open(fn, mode='rt'):\n",
    "        if line[0] != '#':\n",
    "            atoms = line.split()  \n",
    "        \n",
    "            ies_id = atoms[-1].split(\";\")[5].replace(\"ies_id=\", '')\n",
    "            kind = atoms[-1].split(\";\")[-2].replace(\"type=\", '')\n",
    "            subtype = atoms[-1].split(\";\")[-5].replace(\"subtype=\", '')\n",
    "        \n",
    "            if kind == 'ALTERNATIVE':\n",
    "                if subtype == 'PARTIAL_INTERNAL':\n",
    "                    part_in += 1\n",
    "                if subtype == 'PARTIAL_EXTERNAL':\n",
    "                    part_ex += 1\n",
    "                if subtype == 'INTERNAL':\n",
    "                    inter += 1\n",
    "                if subtype == 'EXTERNAL':\n",
    "                    exter += 1\n",
    "                if subtype == 'OVERLAPPING':\n",
    "                    over += 1\n",
    "    \n",
    "    #store data ordered by KDs in dict\n",
    "    alt_list = [part_in, part_ex, inter, exter, over]\n",
    "    subs[names[count]].append(alt_list)\n",
    "    \n",
    "    #for box plots store them in seperate lists\n",
    "    headers.append(names[count])\n",
    "    p_internal.append(part_in)\n",
    "    p_external.append(part_ex)\n",
    "    internal.append(inter)\n",
    "    external.append(exter)\n",
    "    overlap.append(over)\n",
    "    \n",
    "    #for proportional boxplot store percentages in seperate lists\n",
    "    prop_part_in = part_in/sum(subs[names[count]])\n",
    "    prop_part_ex = part_ex/sum(subs[names[count]])\n",
    "    prop_inter = inter/sum(subs[names[count]])\n",
    "    prop_exter = exter/sum(subs[names[count]])\n",
    "    prop_over = over/sum(subs[names[count]])\n",
    "    \n",
    "    prop_p_internal.append(prop_part_in)\n",
    "    prop_p_external.append(prop_part_ex)\n",
    "    prop_internal.append(prop_inter)\n",
    "    prop_external.append(prop_exter)\n",
    "    prop_overlap.append(prop_over)\n",
    "    "
   ]
  },
  {
   "cell_type": "code",
   "execution_count": 31,
   "id": "fe66f4e5",
   "metadata": {},
   "outputs": [
    {
     "name": "stdout",
     "output_type": "stream",
     "text": [
      "                   CTRL-KD  ISWI1-KD  ICOP1-KD  ICOP2-KD  ICOP1/2-KD\n",
      "partial_internal  0.306644  0.426697  0.566458  0.573708    0.469770\n",
      "partial_external  0.328365  0.420035  0.277467  0.277257    0.338363\n",
      "internal          0.031090  0.042601  0.038346  0.029714    0.052006\n",
      "external          0.065588  0.041016  0.041792  0.026246    0.032531\n",
      "overlap           0.268313  0.069651  0.075937  0.093074    0.107330\n"
     ]
    }
   ],
   "source": [
    "conames = list(subs.keys())\n",
    "co = []\n",
    "index = [\"partial_internal\", \"partial_external\", \"internal\", \"external\", \"overlap\"]\n",
    "to_append = [prop_p_internal, prop_p_external, prop_internal, prop_external, prop_overlap]\n",
    "for u in to_append:\n",
    "    co.append(u)\n",
    "tab = pd.DataFrame(co, columns = conames, index = index)\n",
    "print(tab)\n",
    "tab.to_csv('ICOP-alex-events.csv')"
   ]
  },
  {
   "cell_type": "code",
   "execution_count": 13,
   "id": "5d227a8d",
   "metadata": {
    "scrolled": false
   },
   "outputs": [
    {
     "data": {
      "image/png": "[encoded data removed]",
      "text/plain": [
       "<Figure size 720x576 with 1 Axes>"
      ]
     },
     "metadata": {
      "needs_background": "light"
     },
     "output_type": "display_data"
    }
   ],
   "source": [
    "# stacked bar plot with absolut number as y-axis\n",
    "width = 0.5       # the width of the bars: can also be len(x) sequence\n",
    "n_p_internal = np.array(p_internal)\n",
    "n_p_external = np.array(p_external)\n",
    "n_internal = np.array(internal)\n",
    "n_external = np.array(external)\n",
    "n_overlap = np.array(overlap)\n",
    "\n",
    "\n",
    "# make figure\n",
    "fig, ax = plt.subplots(figsize = (10,8))\n",
    "\n",
    "ax.bar(headers, n_p_internal, width, label='partial internal', color='lightsteelblue')\n",
    "ax.bar(headers, n_p_external, width, bottom=n_p_internal, label='partial external', color='peru')\n",
    "ax.bar(headers, n_internal, width, bottom=(n_p_internal+n_p_external), label='internal', color='gold')\n",
    "ax.bar(headers, n_external, width, bottom=(n_p_internal+n_p_external+n_internal), label='external', \n",
    "       color='lightcoral')\n",
    "ax.bar(headers, n_overlap, width, bottom=(n_p_internal+n_p_external+n_internal+n_external), \n",
    "       label='overlap', color='yellowgreen')\n",
    "\n",
    "ax.set_ylabel('number of alternatively excised events', wrap = True, fontsize = 20)\n",
    "ax.set_title('Alternative excision events', wrap = True, fontsize = 20)\n",
    "ax.tick_params(axis='both', which='major', labelsize=20)\n",
    "ax.legend(loc='center left', bbox_to_anchor=(0.56, 0.8), fancybox=True, fontsize = 20);\n",
    "\n",
    "fig.savefig(\"ICOPs_ex_events.pdf\", bbox_inches='tight')"
   ]
  },
  {
   "cell_type": "code",
   "execution_count": 27,
   "id": "63398ef5",
   "metadata": {},
   "outputs": [
    {
     "data": {
      "image/png": "[encoded data removed]",
      "text/plain": [
       "<Figure size 792x432 with 1 Axes>"
      ]
     },
     "metadata": {
      "needs_background": "light"
     },
     "output_type": "display_data"
    }
   ],
   "source": [
    "# stacked bar plot with percentage as y-axis\n",
    "width = 0.5       # the width of the bars: can also be len(x) sequence\n",
    "n_prop_p_internal = np.array(prop_p_internal)\n",
    "n_prop_p_external = np.array(prop_p_external)\n",
    "n_prop_internal = np.array(prop_internal)\n",
    "n_prop_external = np.array(prop_external)\n",
    "n_prop_overlap = np.array(prop_overlap)\n",
    "\n",
    "# make figure\n",
    "fig, ax = plt.subplots(figsize = (11,6))\n",
    "\n",
    "ax.bar(headers, n_prop_p_internal, width, label='partial internal', color='lightsteelblue')\n",
    "ax.bar(headers, n_prop_p_external, width, bottom=n_prop_p_internal, label='partial external', color='peru')\n",
    "ax.bar(headers, n_prop_internal, width, bottom=(n_prop_p_internal+n_prop_p_external), label='internal', \n",
    "       color='gold')\n",
    "ax.bar(headers, n_prop_external, width, bottom=(n_prop_p_internal+n_prop_p_external+n_prop_internal), \n",
    "       label='external', color='lightcoral')\n",
    "ax.bar(headers, n_prop_overlap, width, label='overlap', color='yellowgreen',\n",
    "       bottom=(n_prop_p_internal+n_prop_p_external+n_prop_internal+n_prop_external)) \n",
    "\n",
    "ax.set_ylabel('percentage of\\nalternatively excised events', wrap = True, fontsize = 20)\n",
    "ax.set_title('Alternative excision events', wrap = True, fontsize = 20)\n",
    "ax.tick_params(axis='both', which='major', labelsize=16)\n",
    "ax.legend(loc='center left', bbox_to_anchor=(1, 0.80), fancybox=True, fontsize = 20);\n",
    "fig.tight_layout()\n",
    "\n",
    "fig.savefig(\"ICOPs_ex_events_prop.pdf\", bbox_inches='tight', transparent=\"True\")"
   ]
  },
  {
   "cell_type": "markdown",
   "id": "4537a1f6",
   "metadata": {},
   "source": [
    "### Get the length differences for partial internal and partial external"
   ]
  },
  {
   "cell_type": "code",
   "execution_count": 33,
   "id": "ddf28624",
   "metadata": {},
   "outputs": [
    {
     "data": {
      "text/plain": [
       "[0, 1, 2, 3, 4, 5, 6, 7, 8]"
      ]
     },
     "execution_count": 33,
     "metadata": {},
     "output_type": "execute_result"
    }
   ],
   "source": [
    "li = []\n",
    "zahl = int(-1)\n",
    "for i in range(1,10):\n",
    "    zahl += 1\n",
    "    li.append(zahl)\n",
    "li"
   ]
  },
  {
   "cell_type": "code",
   "execution_count": 34,
   "id": "8003d787",
   "metadata": {},
   "outputs": [],
   "source": [
    "#this script is to analyse parially internal and partially external excision\n",
    "count = int(-1)\n",
    "partial_storage = {}\n",
    "\n",
    "for fn in fns:\n",
    "    count += 1\n",
    "    #store all internally exicised IESs with their length difference in a dict\n",
    "    len_d_int = {}\n",
    "    #store all externally exicised IESs with their length difference in a dict\n",
    "    len_d_ext = {}\n",
    "    \n",
    "    # store the reference lengths of partial internally or externally excised IESs in lists\n",
    "    pext_ref_len = []\n",
    "    pint_ref_len = []\n",
    "\n",
    "    \n",
    "    for line in gzip.open(fn, mode='rt'):   \n",
    "        if line[0] != '#':\n",
    "            atoms = line.split()  \n",
    "        \n",
    "            ies_id = atoms[-1].split(\";\")[5].replace(\"ies_id=\", '')\n",
    "            kind = atoms[-1].split(\";\")[-2].replace(\"type=\", '')\n",
    "            subtype = atoms[-1].split(\";\")[-5].replace(\"subtype=\", '')\n",
    "            \n",
    "            if kind == 'ALTERNATIVE':\n",
    "                if subtype == 'PARTIAL_INTERNAL':\n",
    "                    start = int(atoms[-1].split(\";\")[-6].replace(\"start=\", ''))\n",
    "                    end = int(atoms[-1].split(\";\")[4].replace(\"end=\", ''))\n",
    "                    calc_len = end - start\n",
    "                    ref_ies_len = int(df_length.loc[df_length['IES_ID'] == ies_id][\"ref_length\"])\n",
    "                    len_d_int.setdefault(ies_id, []).append(ref_ies_len - calc_len)\n",
    "                    pint_ref_len.append(ref_ies_len)\n",
    "            \n",
    "                if subtype == 'PARTIAL_EXTERNAL':\n",
    "                    start = int(atoms[-1].split(\";\")[-6].replace(\"start=\", ''))\n",
    "                    end = int(atoms[-1].split(\";\")[4].replace(\"end=\", ''))\n",
    "                    calc_len = end - start\n",
    "                    ref_ies_len = int(df_length.loc[df_length['IES_ID'] == ies_id][\"ref_length\"])\n",
    "                    len_d_ext.setdefault(ies_id, []).append(ref_ies_len - calc_len)\n",
    "                    pext_ref_len.append(ref_ies_len)\n",
    "                    \n",
    "    #put the length differences (multiple for IESs possible) without IESs association in list\n",
    "    all_lens_int = []\n",
    "    for ies in len_d_int:\n",
    "        for alen in len_d_int[ies]:\n",
    "            all_lens_int.append(alen)\n",
    "    \n",
    "    #put the length differences (multiple for IESs possible) without IESs association in list\n",
    "    all_ext_lens = []\n",
    "    for ies in len_d_ext:\n",
    "        for alen in len_d_ext[ies]:\n",
    "            all_ext_lens.append(alen)\n",
    "    \n",
    "    #store both list in a list\n",
    "    my_list = [all_ext_lens, all_lens_int]\n",
    "    #store the name of the KD with both lists in the storage dict\n",
    "    partial_storage[names[count]] = my_list\n",
    "            \n",
    "            \n"
   ]
  },
  {
   "cell_type": "code",
   "execution_count": 32,
   "id": "aee90344",
   "metadata": {},
   "outputs": [
    {
     "name": "stdout",
     "output_type": "stream",
     "text": [
      "       sample  pext_min  pext_max   pext_mean  pext_median  pint_min  \\\n",
      "0     CTRL-KD     -4933        -1  -88.225681         -8.0         3   \n",
      "1    ISWI1-KD     -9698        -1  -79.660663         -8.0         3   \n",
      "2    ICOP1-KD     -8148        -1 -110.812112         -5.0         3   \n",
      "3    ICOP2-KD     -7701        -1  -51.847373         -4.0         3   \n",
      "4  ICOP1/2-KD     -9586        -1 -126.956673         -4.0         3   \n",
      "\n",
      "   pint_max  pint_mean  pint_median  \n",
      "0      3272  61.937500          7.0  \n",
      "1      4357  21.807656         11.0  \n",
      "2      2394  15.622647         10.0  \n",
      "3      2049  15.627166         10.0  \n",
      "4      3056  26.496811         11.0  \n"
     ]
    }
   ],
   "source": [
    "# get statictics for partial alternative excision\n",
    "\n",
    "tab3_names = ['sample', 'pext_min', 'pext_max', 'pext_mean', 'pext_median',\n",
    "              'pint_min', 'pint_max', 'pint_mean', 'pint_median']\n",
    "tab3_cols = []\n",
    "\n",
    "for na, lis in partial_storage.items():\n",
    "    tab3_cols.append([na, min(lis[0]),max(lis[0]), np.mean(lis[0]),np.median(lis[0]),\n",
    "                      min(lis[1]),max(lis[1]), np.mean(lis[1]),np.median(lis[1])])\n",
    "table3 = pd.DataFrame(tab3_cols, columns = tab3_names)\n",
    "print(table3)\n",
    "\n",
    "table3.to_csv(\"partex_partin_alt-ex.csv\")"
   ]
  },
  {
   "cell_type": "code",
   "execution_count": 17,
   "id": "6e8deb4b",
   "metadata": {},
   "outputs": [
    {
     "name": "stderr",
     "output_type": "stream",
     "text": [
      "<ipython-input-17-ccbebae82e80>:5: MatplotlibDeprecationWarning: Auto-removal of overlapping axes is deprecated since 3.6 and will be removed two minor releases later; explicitly call ax.remove() as needed.\n",
      "  ax0 = plt.subplot2grid(shape=(3,4), loc=(0,0), colspan=2)\n"
     ]
    },
    {
     "data": {
      "image/png": "[encoded data removed]",
      "text/plain": [
       "<Figure size 720x576 with 5 Axes>"
      ]
     },
     "metadata": {
      "needs_background": "light"
     },
     "output_type": "display_data"
    }
   ],
   "source": [
    "#set basic figure properties\n",
    "\n",
    "fig, ax = plt.subplots(sharex=True, figsize = (10, 8));\n",
    "\n",
    "ax0 = plt.subplot2grid(shape=(3,4), loc=(0,0), colspan=2)\n",
    "ax1 = plt.subplot2grid((3,4), (0,2), colspan=2)\n",
    "ax2 = plt.subplot2grid((3,4), (1,0), colspan=2)\n",
    "ax3 = plt.subplot2grid((3,4), (1,2), colspan=2)\n",
    "ax4 = plt.subplot2grid((3,4), (2,1), colspan=2)\n",
    "\n",
    "ax0.hist((partial_storage[names[0]][0], partial_storage[names[0]][1]), bins=range(-50, 51), fc='green', \n",
    "         label = ['externally excised IESs', 'internally excised IESs']);\n",
    "ax1.hist((partial_storage[names[1]][0], partial_storage[names[1]][1]), bins=range(-50, 51), fc='navy', \n",
    "         label = ['externally excised IESs', 'internally excised IESs']);\n",
    "ax2.hist((partial_storage[names[2]][0], partial_storage[names[2]][1]), bins=range(-50, 51), fc='sienna', \n",
    "         label = ['externally excised IESs', 'internally excised IESs']);\n",
    "ax3.hist((partial_storage[names[3]][0], partial_storage[names[3]][1]), bins=range(-50, 51), fc='orange', \n",
    "         label = ['externally excised IESs', 'internally excised IESs']);\n",
    "ax4.hist((partial_storage[names[4]][0], partial_storage[names[4]][1]), bins=range(-50, 51), fc='red', \n",
    "         label = ['externally excised IESs', 'internally excised IESs']);\n",
    "\n",
    "\n",
    "#add title to each subplot\n",
    "ax0.set_title(names[0], fontsize = 20);\n",
    "ax1.set_title(names[1], fontsize = 20);\n",
    "ax2.set_title(names[2], fontsize = 20);\n",
    "ax3.set_title(names[3], fontsize = 20);\n",
    "ax4.set_title(names[4], fontsize = 20);\n",
    "\n",
    "#add dashed vertical lines at x=0\n",
    "ax0.axvline(x=0, ymin=0, ymax=1, ls='--', color='black', lw=2)\n",
    "ax1.axvline(x=0, ymin=0, ymax=1, ls='--', color='black', lw=2)\n",
    "ax2.axvline(x=0, ymin=0, ymax=1, ls='--', color='black', lw=2)\n",
    "ax3.axvline(x=0, ymin=0, ymax=1, ls='--', color='black', lw=2)\n",
    "ax4.axvline(x=0, ymin=0, ymax=1, ls='--', color='black', lw=2)\n",
    "\n",
    "\n",
    "#set the min and max for the x-axis (shared by all)\n",
    "#ax0.set_ylabel('number of IESs', fontsize=13);\n",
    "ax2.set_ylabel('number of IESs', fontsize=20);\n",
    "#ax4.set_ylabel('number of IESs', fontsize=13);\n",
    "\n",
    "ax4.set_xlim([-50,50]);\n",
    "ax4.set_xlabel('Reference IES length - Alternative IES length [bp]', fontsize=20);\n",
    "\n",
    "#ax5.set_xticks(range(-50, 50, 10));\n",
    "\n",
    "plt.suptitle(\"Alternatively excised IESs\");\n",
    "plt.tight_layout();\n",
    "#fig.text(0.001, 0.5, 'number of IESs', ha='center', va='center', rotation='vertical');\n",
    "#fig.text(0.5, 0.001, 'Reference IES length - Alternative IES length [bp]', \n",
    "#         ha='center', va='center', rotation='horizontal');\n",
    "fig.text(0.20, 0.85, 'partial external', fontsize = 16, wrap=True,\n",
    "         ha='center', va='center', rotation='horizontal');\n",
    "fig.text(0.41, 0.85, 'partial internal', fontsize = 16,wrap=True,\n",
    "         ha='center', va='center', rotation='horizontal');\n",
    "\n",
    "fig.savefig(\"ICOPs_down_int_ext_large.pdf\",bbox_inches='tight')"
   ]
  },
  {
   "cell_type": "code",
   "execution_count": 203,
   "id": "19472ec9",
   "metadata": {},
   "outputs": [],
   "source": [
    "ref_ies_len_test = int(df_length.loc[df_length['IES_ID'] == 'IESPGM.PTET51.1.9.694727'][\"ref_length\"])"
   ]
  },
  {
   "cell_type": "code",
   "execution_count": 205,
   "id": "8d2188a8",
   "metadata": {},
   "outputs": [
    {
     "data": {
      "text/plain": [
       "108"
      ]
     },
     "execution_count": 205,
     "metadata": {},
     "output_type": "execute_result"
    }
   ],
   "source": [
    "ref_ies_len"
   ]
  },
  {
   "cell_type": "code",
   "execution_count": 199,
   "id": "4c6fbafe",
   "metadata": {},
   "outputs": [
    {
     "data": {
      "text/plain": [
       "99"
      ]
     },
     "execution_count": 199,
     "metadata": {},
     "output_type": "execute_result"
    }
   ],
   "source": [
    "len(sequence)"
   ]
  },
  {
   "cell_type": "code",
   "execution_count": 206,
   "id": "7c9853ac",
   "metadata": {},
   "outputs": [
    {
     "data": {
      "text/plain": [
       "98"
      ]
     },
     "execution_count": 206,
     "metadata": {},
     "output_type": "execute_result"
    }
   ],
   "source": [
    "calc_len"
   ]
  },
  {
   "cell_type": "code",
   "execution_count": 201,
   "id": "ef791e3c",
   "metadata": {},
   "outputs": [
    {
     "data": {
      "text/plain": [
       "'IESPGM.PTET51.1.9.694727'"
      ]
     },
     "execution_count": 201,
     "metadata": {},
     "output_type": "execute_result"
    }
   ],
   "source": [
    "ies_id"
   ]
  },
  {
   "cell_type": "code",
   "execution_count": null,
   "id": "22940100",
   "metadata": {},
   "outputs": [],
   "source": [
    "df_length['IES_']"
   ]
  },
  {
   "cell_type": "code",
   "execution_count": null,
   "id": "27f4d4a1",
   "metadata": {},
   "outputs": [],
   "source": [
    "#this script is to analyse parially internal and partially external excision\n",
    "\n",
    "#specify the files you want to work on and the names you want to call them\n",
    "unzip_gff = [\"ND7_down_MILORD.gff3\",\"ISWI1_down_MILORD.gff3\", \"ICOP1_down_MILORD.gff3\", \"ICOP2_down_MILORD.gff3\",\n",
    "       \"ICOP1_2_MILORD.gff3\"]\n",
    "sam =[\"ND7\",\"ISWI1\",\"ICOP1\",\"ICOP2\",\"ICOP1_2\"]\n",
    "\n",
    "partial_storage = OrderedDict([(na, []) for na in sam])\n",
    "zahl = int(-1)\n",
    "\n",
    "#loop through KD data sets and read them into df\n",
    "for fn in unzip_gff:\n",
    "    zahl += 1\n",
    "    alt = gffpd.read_gff3(fn)\n",
    "    #create dfs with lines of the gff containing either internally or externally excised IESs\n",
    "    df_alt_internal = alt.df[alt.df['attributes'].str.contains(\"PARTIAL_INTERNAL\")]\n",
    "    df_alt_external = alt.df[alt.df['attributes'].str.contains(\"PARTIAL_EXTERNAL\")]\n",
    "    #for santity checks\n",
    "    #print(len(alt.df))\n",
    "    #print(len(df_alt_internal))\n",
    "    #print(len(df_alt_external))\n",
    "    print(sam[zahl],'gff3 file has',len(alt.df),'lines.',len(df_alt_internal),\n",
    "          'are entries with internal and',len(df_alt_external),'are entries with extranl excision.')\n",
    "    \n",
    "    #store all internally exicised IESs with their length difference in a dict\n",
    "    len_d_int = {}\n",
    "\n",
    "    for row in df_alt_internal.iterrows():\n",
    "        #get the length of the alternative IES feature (end and start are column names in df)\n",
    "        ies_len = row[1].end - row[1].start\n",
    "        #get the name of the reference IES\n",
    "        IES = [a for a in row[1]['attributes'].split(\";\") if \"ies_id\" in a][0].split(\"=\")[1]\n",
    "        #get the length of the reference IES using the name stored in \"IES\" variable\n",
    "        ref_ies_len = int(df_lengths.loc[df_lengths['IES'] == IES][\"IES_length\"])\n",
    "        #is this needed? also not completely correct: count = 'support_variant=2' ( .split(\"=\")[1]) is missing)\n",
    "        #count = [a for a in row[1]['attributes'].split(\";\") if \"support_variant\" in a][0]\n",
    "        len_d_int.setdefault(IES, []).append(ref_ies_len - ies_len)\n",
    "    \n",
    "    #put the length differences (multiple for IESs possible) without IESs association in list\n",
    "    all_lens_int = []\n",
    "    for ies in len_d_int:\n",
    "        for alen in len_d_int[ies]:\n",
    "            all_lens_int.append(alen)\n",
    "    \n",
    "    #store all externally exicised IESs with their length difference in a dict\n",
    "    len_d_ext = {}\n",
    "\n",
    "    for row in df_alt_external.iterrows():\n",
    "        ies_len = row[1].end - row[1].start\n",
    "        IES = [a for a in row[1]['attributes'].split(\";\") if \"ies_id\" in a][0].split(\"=\")[1]\n",
    "        ref_ies_len = int(df_length.loc[df_length['IES_ID'] == IES][\"ref_length\"])\n",
    "        #count = [a for a in row[1]['attributes'].split(\";\") if \"support_variant\" in a][0]\n",
    "        len_d_ext.setdefault(IES, []).append(ref_ies_len - ies_len)\n",
    "    \n",
    "    #put the length differences (multiple for IESs possible) without IESs association in list\n",
    "    all_ext_lens = []\n",
    "    for ies in len_d_ext:\n",
    "        for alen in len_d_ext[ies]:\n",
    "            all_ext_lens.append(alen)\n",
    "    \n",
    "    #store both list in a list\n",
    "    my_list = [all_ext_lens, all_lens_int]\n",
    "    #store the name of the KD with both lists in the storage dict\n",
    "    partial_storage[sam[zahl]].append(my_list)"
   ]
  },
  {
   "cell_type": "code",
   "execution_count": null,
   "id": "02aa2539",
   "metadata": {},
   "outputs": [],
   "source": []
  },
  {
   "cell_type": "code",
   "execution_count": null,
   "id": "4db9b883",
   "metadata": {},
   "outputs": [],
   "source": []
  },
  {
   "cell_type": "code",
   "execution_count": null,
   "id": "96275472",
   "metadata": {},
   "outputs": [],
   "source": []
  },
  {
   "cell_type": "code",
   "execution_count": null,
   "id": "cfcd1873",
   "metadata": {},
   "outputs": [],
   "source": []
  },
  {
   "cell_type": "code",
   "execution_count": 182,
   "id": "bfd9e374",
   "metadata": {},
   "outputs": [
    {
     "data": {
      "text/plain": [
       "101"
      ]
     },
     "execution_count": 182,
     "metadata": {},
     "output_type": "execute_result"
    }
   ],
   "source": [
    "len(forbidden_len['ND7-KD'])"
   ]
  },
  {
   "cell_type": "code",
   "execution_count": 181,
   "id": "af8f1780",
   "metadata": {},
   "outputs": [
    {
     "data": {
      "text/plain": [
       "101"
      ]
     },
     "execution_count": 181,
     "metadata": {},
     "output_type": "execute_result"
    }
   ],
   "source": [
    "len(forbidden_id['ND7-KD'])"
   ]
  },
  {
   "cell_type": "code",
   "execution_count": 196,
   "id": "47b35689",
   "metadata": {},
   "outputs": [
    {
     "data": {
      "text/html": [
       "<div>\n",
       "<style scoped>\n",
       "    .dataframe tbody tr th:only-of-type {\n",
       "        vertical-align: middle;\n",
       "    }\n",
       "\n",
       "    .dataframe tbody tr th {\n",
       "        vertical-align: top;\n",
       "    }\n",
       "\n",
       "    .dataframe thead th {\n",
       "        text-align: right;\n",
       "    }\n",
       "</style>\n",
       "<table border=\"1\" class=\"dataframe\">\n",
       "  <thead>\n",
       "    <tr style=\"text-align: right;\">\n",
       "      <th></th>\n",
       "      <th>IES_ID</th>\n",
       "      <th>ref_length</th>\n",
       "    </tr>\n",
       "  </thead>\n",
       "  <tbody>\n",
       "    <tr>\n",
       "      <th>0</th>\n",
       "      <td>IESPGM.PTET51.1.9.2325</td>\n",
       "      <td>495</td>\n",
       "    </tr>\n",
       "    <tr>\n",
       "      <th>1</th>\n",
       "      <td>IESPGM.PTET51.1.9.33017</td>\n",
       "      <td>65</td>\n",
       "    </tr>\n",
       "    <tr>\n",
       "      <th>2</th>\n",
       "      <td>IESPGM.PTET51.1.9.35389</td>\n",
       "      <td>133</td>\n",
       "    </tr>\n",
       "    <tr>\n",
       "      <th>3</th>\n",
       "      <td>IESPGM.PTET51.1.9.36829</td>\n",
       "      <td>73</td>\n",
       "    </tr>\n",
       "    <tr>\n",
       "      <th>4</th>\n",
       "      <td>IESPGM.PTET51.1.9.36845</td>\n",
       "      <td>106</td>\n",
       "    </tr>\n",
       "  </tbody>\n",
       "</table>\n",
       "</div>"
      ],
      "text/plain": [
       "                    IES_ID  ref_length\n",
       "0   IESPGM.PTET51.1.9.2325         495\n",
       "1  IESPGM.PTET51.1.9.33017          65\n",
       "2  IESPGM.PTET51.1.9.35389         133\n",
       "3  IESPGM.PTET51.1.9.36829          73\n",
       "4  IESPGM.PTET51.1.9.36845         106"
      ]
     },
     "execution_count": 196,
     "metadata": {},
     "output_type": "execute_result"
    }
   ],
   "source": [
    "df_length[:5]"
   ]
  },
  {
   "cell_type": "code",
   "execution_count": 155,
   "id": "6e2ee0dd",
   "metadata": {},
   "outputs": [
    {
     "data": {
      "text/plain": [
       "49834"
      ]
     },
     "execution_count": 155,
     "metadata": {},
     "output_type": "execute_result"
    }
   ],
   "source": [
    "len(extracted_values['ISWI1-KD'])"
   ]
  },
  {
   "cell_type": "code",
   "execution_count": 129,
   "id": "e3a6dbac",
   "metadata": {},
   "outputs": [
    {
     "data": {
      "text/plain": [
       "pandas.core.frame.DataFrame"
      ]
     },
     "execution_count": 129,
     "metadata": {},
     "output_type": "execute_result"
    }
   ],
   "source": [
    "type(dfs_len[names[count]])"
   ]
  },
  {
   "cell_type": "code",
   "execution_count": 149,
   "id": "7416ae74",
   "metadata": {},
   "outputs": [],
   "source": [
    "superhigh = dfs_len['ISWI1-KD'][(~np.isnan(dfs_len['ISWI1-KD'][19]))]"
   ]
  },
  {
   "cell_type": "code",
   "execution_count": 150,
   "id": "e1d51053",
   "metadata": {},
   "outputs": [
    {
     "data": {
      "text/html": [
       "<div>\n",
       "<style scoped>\n",
       "    .dataframe tbody tr th:only-of-type {\n",
       "        vertical-align: middle;\n",
       "    }\n",
       "\n",
       "    .dataframe tbody tr th {\n",
       "        vertical-align: top;\n",
       "    }\n",
       "\n",
       "    .dataframe thead th {\n",
       "        text-align: right;\n",
       "    }\n",
       "</style>\n",
       "<table border=\"1\" class=\"dataframe\">\n",
       "  <thead>\n",
       "    <tr style=\"text-align: right;\">\n",
       "      <th></th>\n",
       "      <th>IES_ID</th>\n",
       "      <th>ref_length</th>\n",
       "      <th>0</th>\n",
       "      <th>1</th>\n",
       "      <th>2</th>\n",
       "      <th>3</th>\n",
       "      <th>4</th>\n",
       "      <th>5</th>\n",
       "      <th>6</th>\n",
       "      <th>7</th>\n",
       "      <th>...</th>\n",
       "      <th>10</th>\n",
       "      <th>11</th>\n",
       "      <th>12</th>\n",
       "      <th>13</th>\n",
       "      <th>14</th>\n",
       "      <th>15</th>\n",
       "      <th>16</th>\n",
       "      <th>17</th>\n",
       "      <th>18</th>\n",
       "      <th>19</th>\n",
       "    </tr>\n",
       "  </thead>\n",
       "  <tbody>\n",
       "    <tr>\n",
       "      <th>15142</th>\n",
       "      <td>IESPGM.PTET51.1.164.188323</td>\n",
       "      <td>1860</td>\n",
       "      <td>9130</td>\n",
       "      <td>5031.0</td>\n",
       "      <td>4181.0</td>\n",
       "      <td>975.0</td>\n",
       "      <td>1934.0</td>\n",
       "      <td>1926.0</td>\n",
       "      <td>1924.0</td>\n",
       "      <td>1922.0</td>\n",
       "      <td>...</td>\n",
       "      <td>1878.0</td>\n",
       "      <td>1875.0</td>\n",
       "      <td>1865.0</td>\n",
       "      <td>1863.0</td>\n",
       "      <td>1849.0</td>\n",
       "      <td>1847.0</td>\n",
       "      <td>1759.0</td>\n",
       "      <td>59.0</td>\n",
       "      <td>56.0</td>\n",
       "      <td>942.0</td>\n",
       "    </tr>\n",
       "  </tbody>\n",
       "</table>\n",
       "<p>1 rows × 22 columns</p>\n",
       "</div>"
      ],
      "text/plain": [
       "                           IES_ID  ref_length     0       1       2      3  \\\n",
       "15142  IESPGM.PTET51.1.164.188323        1860  9130  5031.0  4181.0  975.0   \n",
       "\n",
       "            4       5       6       7  ...      10      11      12      13  \\\n",
       "15142  1934.0  1926.0  1924.0  1922.0  ...  1878.0  1875.0  1865.0  1863.0   \n",
       "\n",
       "           14      15      16    17    18     19  \n",
       "15142  1849.0  1847.0  1759.0  59.0  56.0  942.0  \n",
       "\n",
       "[1 rows x 22 columns]"
      ]
     },
     "execution_count": 150,
     "metadata": {},
     "output_type": "execute_result"
    }
   ],
   "source": [
    "superhigh"
   ]
  },
  {
   "cell_type": "code",
   "execution_count": 145,
   "id": "4f042bf9",
   "metadata": {},
   "outputs": [
    {
     "data": {
      "text/html": [
       "<div>\n",
       "<style scoped>\n",
       "    .dataframe tbody tr th:only-of-type {\n",
       "        vertical-align: middle;\n",
       "    }\n",
       "\n",
       "    .dataframe tbody tr th {\n",
       "        vertical-align: top;\n",
       "    }\n",
       "\n",
       "    .dataframe thead th {\n",
       "        text-align: right;\n",
       "    }\n",
       "</style>\n",
       "<table border=\"1\" class=\"dataframe\">\n",
       "  <thead>\n",
       "    <tr style=\"text-align: right;\">\n",
       "      <th></th>\n",
       "      <th>IES_ID</th>\n",
       "      <th>ref_length</th>\n",
       "      <th>0</th>\n",
       "      <th>1</th>\n",
       "      <th>2</th>\n",
       "      <th>3</th>\n",
       "      <th>4</th>\n",
       "      <th>5</th>\n",
       "      <th>6</th>\n",
       "      <th>7</th>\n",
       "      <th>...</th>\n",
       "      <th>10</th>\n",
       "      <th>11</th>\n",
       "      <th>12</th>\n",
       "      <th>13</th>\n",
       "      <th>14</th>\n",
       "      <th>15</th>\n",
       "      <th>16</th>\n",
       "      <th>17</th>\n",
       "      <th>18</th>\n",
       "      <th>19</th>\n",
       "    </tr>\n",
       "  </thead>\n",
       "  <tbody>\n",
       "    <tr>\n",
       "      <th>0</th>\n",
       "      <td>IESPGM.PTET51.1.9.2325</td>\n",
       "      <td>495</td>\n",
       "      <td>485</td>\n",
       "      <td>NaN</td>\n",
       "      <td>NaN</td>\n",
       "      <td>NaN</td>\n",
       "      <td>NaN</td>\n",
       "      <td>NaN</td>\n",
       "      <td>NaN</td>\n",
       "      <td>NaN</td>\n",
       "      <td>...</td>\n",
       "      <td>NaN</td>\n",
       "      <td>NaN</td>\n",
       "      <td>NaN</td>\n",
       "      <td>NaN</td>\n",
       "      <td>NaN</td>\n",
       "      <td>NaN</td>\n",
       "      <td>NaN</td>\n",
       "      <td>NaN</td>\n",
       "      <td>NaN</td>\n",
       "      <td>NaN</td>\n",
       "    </tr>\n",
       "    <tr>\n",
       "      <th>1</th>\n",
       "      <td>IESPGM.PTET51.1.9.33017</td>\n",
       "      <td>65</td>\n",
       "      <td>63</td>\n",
       "      <td>57.0</td>\n",
       "      <td>73.0</td>\n",
       "      <td>NaN</td>\n",
       "      <td>NaN</td>\n",
       "      <td>NaN</td>\n",
       "      <td>NaN</td>\n",
       "      <td>NaN</td>\n",
       "      <td>...</td>\n",
       "      <td>NaN</td>\n",
       "      <td>NaN</td>\n",
       "      <td>NaN</td>\n",
       "      <td>NaN</td>\n",
       "      <td>NaN</td>\n",
       "      <td>NaN</td>\n",
       "      <td>NaN</td>\n",
       "      <td>NaN</td>\n",
       "      <td>NaN</td>\n",
       "      <td>NaN</td>\n",
       "    </tr>\n",
       "    <tr>\n",
       "      <th>2</th>\n",
       "      <td>IESPGM.PTET51.1.9.36829</td>\n",
       "      <td>73</td>\n",
       "      <td>195</td>\n",
       "      <td>57.0</td>\n",
       "      <td>67.0</td>\n",
       "      <td>NaN</td>\n",
       "      <td>NaN</td>\n",
       "      <td>NaN</td>\n",
       "      <td>NaN</td>\n",
       "      <td>NaN</td>\n",
       "      <td>...</td>\n",
       "      <td>NaN</td>\n",
       "      <td>NaN</td>\n",
       "      <td>NaN</td>\n",
       "      <td>NaN</td>\n",
       "      <td>NaN</td>\n",
       "      <td>NaN</td>\n",
       "      <td>NaN</td>\n",
       "      <td>NaN</td>\n",
       "      <td>NaN</td>\n",
       "      <td>NaN</td>\n",
       "    </tr>\n",
       "    <tr>\n",
       "      <th>3</th>\n",
       "      <td>IESPGM.PTET51.1.9.36845</td>\n",
       "      <td>106</td>\n",
       "      <td>189</td>\n",
       "      <td>NaN</td>\n",
       "      <td>NaN</td>\n",
       "      <td>NaN</td>\n",
       "      <td>NaN</td>\n",
       "      <td>NaN</td>\n",
       "      <td>NaN</td>\n",
       "      <td>NaN</td>\n",
       "      <td>...</td>\n",
       "      <td>NaN</td>\n",
       "      <td>NaN</td>\n",
       "      <td>NaN</td>\n",
       "      <td>NaN</td>\n",
       "      <td>NaN</td>\n",
       "      <td>NaN</td>\n",
       "      <td>NaN</td>\n",
       "      <td>NaN</td>\n",
       "      <td>NaN</td>\n",
       "      <td>NaN</td>\n",
       "    </tr>\n",
       "    <tr>\n",
       "      <th>4</th>\n",
       "      <td>IESPGM.PTET51.1.9.37011</td>\n",
       "      <td>135</td>\n",
       "      <td>123</td>\n",
       "      <td>130.0</td>\n",
       "      <td>NaN</td>\n",
       "      <td>NaN</td>\n",
       "      <td>NaN</td>\n",
       "      <td>NaN</td>\n",
       "      <td>NaN</td>\n",
       "      <td>NaN</td>\n",
       "      <td>...</td>\n",
       "      <td>NaN</td>\n",
       "      <td>NaN</td>\n",
       "      <td>NaN</td>\n",
       "      <td>NaN</td>\n",
       "      <td>NaN</td>\n",
       "      <td>NaN</td>\n",
       "      <td>NaN</td>\n",
       "      <td>NaN</td>\n",
       "      <td>NaN</td>\n",
       "      <td>NaN</td>\n",
       "    </tr>\n",
       "  </tbody>\n",
       "</table>\n",
       "<p>5 rows × 22 columns</p>\n",
       "</div>"
      ],
      "text/plain": [
       "                    IES_ID  ref_length    0      1     2   3   4   5   6   7  \\\n",
       "0   IESPGM.PTET51.1.9.2325         495  485    NaN   NaN NaN NaN NaN NaN NaN   \n",
       "1  IESPGM.PTET51.1.9.33017          65   63   57.0  73.0 NaN NaN NaN NaN NaN   \n",
       "2  IESPGM.PTET51.1.9.36829          73  195   57.0  67.0 NaN NaN NaN NaN NaN   \n",
       "3  IESPGM.PTET51.1.9.36845         106  189    NaN   NaN NaN NaN NaN NaN NaN   \n",
       "4  IESPGM.PTET51.1.9.37011         135  123  130.0   NaN NaN NaN NaN NaN NaN   \n",
       "\n",
       "   ...  10  11  12  13  14  15  16  17  18  19  \n",
       "0  ... NaN NaN NaN NaN NaN NaN NaN NaN NaN NaN  \n",
       "1  ... NaN NaN NaN NaN NaN NaN NaN NaN NaN NaN  \n",
       "2  ... NaN NaN NaN NaN NaN NaN NaN NaN NaN NaN  \n",
       "3  ... NaN NaN NaN NaN NaN NaN NaN NaN NaN NaN  \n",
       "4  ... NaN NaN NaN NaN NaN NaN NaN NaN NaN NaN  \n",
       "\n",
       "[5 rows x 22 columns]"
      ]
     },
     "execution_count": 145,
     "metadata": {},
     "output_type": "execute_result"
    }
   ],
   "source": [
    "dfs_len['ISWI1-KD'][:5]"
   ]
  },
  {
   "cell_type": "code",
   "execution_count": 117,
   "id": "77a46827",
   "metadata": {},
   "outputs": [
    {
     "data": {
      "text/plain": [
       "7897"
      ]
     },
     "execution_count": 117,
     "metadata": {},
     "output_type": "execute_result"
    }
   ],
   "source": [
    "len(alt_len)"
   ]
  },
  {
   "cell_type": "code",
   "execution_count": 118,
   "id": "155b0d87",
   "metadata": {},
   "outputs": [
    {
     "data": {
      "text/plain": [
       "7897"
      ]
     },
     "execution_count": 118,
     "metadata": {},
     "output_type": "execute_result"
    }
   ],
   "source": [
    "len(df_altlen)"
   ]
  },
  {
   "cell_type": "code",
   "execution_count": 119,
   "id": "4ee5f6bc",
   "metadata": {},
   "outputs": [
    {
     "data": {
      "text/plain": [
       "(7897, 9)"
      ]
     },
     "execution_count": 119,
     "metadata": {},
     "output_type": "execute_result"
    }
   ],
   "source": [
    "df_altlen.shape"
   ]
  },
  {
   "cell_type": "code",
   "execution_count": 113,
   "id": "1a1b6e1b",
   "metadata": {},
   "outputs": [
    {
     "data": {
      "text/html": [
       "<div>\n",
       "<style scoped>\n",
       "    .dataframe tbody tr th:only-of-type {\n",
       "        vertical-align: middle;\n",
       "    }\n",
       "\n",
       "    .dataframe tbody tr th {\n",
       "        vertical-align: top;\n",
       "    }\n",
       "\n",
       "    .dataframe thead th {\n",
       "        text-align: right;\n",
       "    }\n",
       "</style>\n",
       "<table border=\"1\" class=\"dataframe\">\n",
       "  <thead>\n",
       "    <tr style=\"text-align: right;\">\n",
       "      <th></th>\n",
       "      <th>0</th>\n",
       "      <th>1</th>\n",
       "      <th>2</th>\n",
       "      <th>3</th>\n",
       "      <th>4</th>\n",
       "      <th>5</th>\n",
       "      <th>6</th>\n",
       "    </tr>\n",
       "  </thead>\n",
       "  <tbody>\n",
       "    <tr>\n",
       "      <th>IESPGM.PTET51.1.61.426410</th>\n",
       "      <td>56</td>\n",
       "      <td>58.0</td>\n",
       "      <td>1246.0</td>\n",
       "      <td>1957.0</td>\n",
       "      <td>143.0</td>\n",
       "      <td>2002.0</td>\n",
       "      <td>26.0</td>\n",
       "    </tr>\n",
       "  </tbody>\n",
       "</table>\n",
       "</div>"
      ],
      "text/plain": [
       "                            0     1       2       3      4       5     6\n",
       "IESPGM.PTET51.1.61.426410  56  58.0  1246.0  1957.0  143.0  2002.0  26.0"
      ]
     },
     "execution_count": 113,
     "metadata": {},
     "output_type": "execute_result"
    }
   ],
   "source": [
    "most = df_allen[(~np.isnan(df_allen[6]))]\n",
    "most[:5]"
   ]
  },
  {
   "cell_type": "code",
   "execution_count": 111,
   "id": "28babb94",
   "metadata": {},
   "outputs": [
    {
     "data": {
      "text/plain": [
       "7897"
      ]
     },
     "execution_count": 111,
     "metadata": {},
     "output_type": "execute_result"
    }
   ],
   "source": [
    "len(df_allen[6])"
   ]
  },
  {
   "cell_type": "code",
   "execution_count": 121,
   "id": "72fa1374",
   "metadata": {},
   "outputs": [
    {
     "data": {
      "text/html": [
       "<div>\n",
       "<style scoped>\n",
       "    .dataframe tbody tr th:only-of-type {\n",
       "        vertical-align: middle;\n",
       "    }\n",
       "\n",
       "    .dataframe tbody tr th {\n",
       "        vertical-align: top;\n",
       "    }\n",
       "\n",
       "    .dataframe thead th {\n",
       "        text-align: right;\n",
       "    }\n",
       "</style>\n",
       "<table border=\"1\" class=\"dataframe\">\n",
       "  <thead>\n",
       "    <tr style=\"text-align: right;\">\n",
       "      <th></th>\n",
       "      <th>IES_ID</th>\n",
       "      <th>ref_length</th>\n",
       "      <th>0</th>\n",
       "      <th>1</th>\n",
       "      <th>2</th>\n",
       "      <th>3</th>\n",
       "      <th>4</th>\n",
       "      <th>5</th>\n",
       "      <th>6</th>\n",
       "    </tr>\n",
       "  </thead>\n",
       "  <tbody>\n",
       "    <tr>\n",
       "      <th>7892</th>\n",
       "      <td>IESPGM.PTET51.1.556.143097</td>\n",
       "      <td>38</td>\n",
       "      <td>28</td>\n",
       "      <td>38.0</td>\n",
       "      <td>NaN</td>\n",
       "      <td>NaN</td>\n",
       "      <td>NaN</td>\n",
       "      <td>NaN</td>\n",
       "      <td>NaN</td>\n",
       "    </tr>\n",
       "    <tr>\n",
       "      <th>7893</th>\n",
       "      <td>IESPGM.PTET51.1.556.162596</td>\n",
       "      <td>29</td>\n",
       "      <td>31</td>\n",
       "      <td>NaN</td>\n",
       "      <td>NaN</td>\n",
       "      <td>NaN</td>\n",
       "      <td>NaN</td>\n",
       "      <td>NaN</td>\n",
       "      <td>NaN</td>\n",
       "    </tr>\n",
       "    <tr>\n",
       "      <th>7894</th>\n",
       "      <td>IESPGM.PTET51.1.556.205825</td>\n",
       "      <td>481</td>\n",
       "      <td>2346</td>\n",
       "      <td>620.0</td>\n",
       "      <td>84.0</td>\n",
       "      <td>NaN</td>\n",
       "      <td>NaN</td>\n",
       "      <td>NaN</td>\n",
       "      <td>NaN</td>\n",
       "    </tr>\n",
       "    <tr>\n",
       "      <th>7895</th>\n",
       "      <td>IESPGM.PTET51.1.556.211267</td>\n",
       "      <td>124</td>\n",
       "      <td>44</td>\n",
       "      <td>NaN</td>\n",
       "      <td>NaN</td>\n",
       "      <td>NaN</td>\n",
       "      <td>NaN</td>\n",
       "      <td>NaN</td>\n",
       "      <td>NaN</td>\n",
       "    </tr>\n",
       "    <tr>\n",
       "      <th>7896</th>\n",
       "      <td>IESPGM.PTET51.1.556.212459</td>\n",
       "      <td>55</td>\n",
       "      <td>58</td>\n",
       "      <td>NaN</td>\n",
       "      <td>NaN</td>\n",
       "      <td>NaN</td>\n",
       "      <td>NaN</td>\n",
       "      <td>NaN</td>\n",
       "      <td>NaN</td>\n",
       "    </tr>\n",
       "  </tbody>\n",
       "</table>\n",
       "</div>"
      ],
      "text/plain": [
       "                          IES_ID  ref_length     0      1     2   3   4   5  \\\n",
       "7892  IESPGM.PTET51.1.556.143097          38    28   38.0   NaN NaN NaN NaN   \n",
       "7893  IESPGM.PTET51.1.556.162596          29    31    NaN   NaN NaN NaN NaN   \n",
       "7894  IESPGM.PTET51.1.556.205825         481  2346  620.0  84.0 NaN NaN NaN   \n",
       "7895  IESPGM.PTET51.1.556.211267         124    44    NaN   NaN NaN NaN NaN   \n",
       "7896  IESPGM.PTET51.1.556.212459          55    58    NaN   NaN NaN NaN NaN   \n",
       "\n",
       "       6  \n",
       "7892 NaN  \n",
       "7893 NaN  \n",
       "7894 NaN  \n",
       "7895 NaN  \n",
       "7896 NaN  "
      ]
     },
     "execution_count": 121,
     "metadata": {},
     "output_type": "execute_result"
    }
   ],
   "source": [
    "df_altlen[-5:]"
   ]
  },
  {
   "cell_type": "code",
   "execution_count": null,
   "id": "dc697797",
   "metadata": {},
   "outputs": [],
   "source": []
  },
  {
   "cell_type": "code",
   "execution_count": 101,
   "id": "21776360",
   "metadata": {},
   "outputs": [
    {
     "data": {
      "text/html": [
       "<div>\n",
       "<style scoped>\n",
       "    .dataframe tbody tr th:only-of-type {\n",
       "        vertical-align: middle;\n",
       "    }\n",
       "\n",
       "    .dataframe tbody tr th {\n",
       "        vertical-align: top;\n",
       "    }\n",
       "\n",
       "    .dataframe thead th {\n",
       "        text-align: right;\n",
       "    }\n",
       "</style>\n",
       "<table border=\"1\" class=\"dataframe\">\n",
       "  <thead>\n",
       "    <tr style=\"text-align: right;\">\n",
       "      <th></th>\n",
       "      <th>IES_ID</th>\n",
       "      <th>ref_length</th>\n",
       "    </tr>\n",
       "  </thead>\n",
       "  <tbody>\n",
       "    <tr>\n",
       "      <th>0</th>\n",
       "      <td>IESPGM.PTET51.1.9.2325</td>\n",
       "      <td>495</td>\n",
       "    </tr>\n",
       "    <tr>\n",
       "      <th>1</th>\n",
       "      <td>IESPGM.PTET51.1.9.33017</td>\n",
       "      <td>65</td>\n",
       "    </tr>\n",
       "    <tr>\n",
       "      <th>2</th>\n",
       "      <td>IESPGM.PTET51.1.9.35389</td>\n",
       "      <td>133</td>\n",
       "    </tr>\n",
       "    <tr>\n",
       "      <th>3</th>\n",
       "      <td>IESPGM.PTET51.1.9.36829</td>\n",
       "      <td>73</td>\n",
       "    </tr>\n",
       "    <tr>\n",
       "      <th>4</th>\n",
       "      <td>IESPGM.PTET51.1.9.36845</td>\n",
       "      <td>106</td>\n",
       "    </tr>\n",
       "  </tbody>\n",
       "</table>\n",
       "</div>"
      ],
      "text/plain": [
       "                    IES_ID  ref_length\n",
       "0   IESPGM.PTET51.1.9.2325         495\n",
       "1  IESPGM.PTET51.1.9.33017          65\n",
       "2  IESPGM.PTET51.1.9.35389         133\n",
       "3  IESPGM.PTET51.1.9.36829          73\n",
       "4  IESPGM.PTET51.1.9.36845         106"
      ]
     },
     "execution_count": 101,
     "metadata": {},
     "output_type": "execute_result"
    }
   ],
   "source": [
    "df_length[:5]"
   ]
  },
  {
   "cell_type": "code",
   "execution_count": null,
   "id": "7c798c36",
   "metadata": {},
   "outputs": [],
   "source": [
    "#this script acquires the lengths of alternatively excised IESs\n",
    "\n",
    "#fns = [\"ND7_down_MILORD.gff3.gz\",\"ISWI1_down_MILORD.gff3.gz\",\"ICOP1_down_MILORD.gff3.gz\",\n",
    "#       \"ICOP2_down_MILORD.gff3.gz\", \"ICOP1_2_MILORD.gff3.gz\"]\n",
    "#KDs=[\"ND7\",\"ISWI1\",\"ICOP1\",\"ICOP2\",\"ICOP1_2\"]\n",
    "\n",
    "len_storage = OrderedDict([(na, []) for na in KDs])\n",
    "#zahl = int(-1)\n",
    "\n",
    "# create data frame with reference IES lengths\n",
    "df_length = pd.read_csv('IES_length.txt.gz',compression = 'gzip',sep=\" \")\n",
    "\n",
    "#loop through the samples\n",
    "for fn in fns:\n",
    "    ies_len = {}\n",
    "    alt_len = {}\n",
    "    \n",
    "    #for each line acquire the stored data\n",
    "    for line in gzip.open(fn, mode='rt'):\n",
    "        if line[0] != '#':\n",
    "            atoms = line.split()  \n",
    "            ies_id = atoms[-1].split(\";\")[5].replace(\"ies_id=\", '')\n",
    "            kind = atoms[-1].split(\";\")[-2].replace(\"type=\", '')\n",
    "            subtype = atoms[-1].split(\";\")[-5].replace(\"subtype=\", '')\n",
    "            \n",
    "            if kind == 'IES':\n",
    "                sequence = atoms[-1].split(\";\")[11].replace(\"sequence=\", '')\n",
    "                ies_len[ies_id] = len(sequence)\n",
    "            #for alternatively excised IES store the length of the alternative IES\n",
    "            elif kind == 'ALTERNATIVE':\n",
    "                sequence = atoms[-1].split(\";\")[11].replace(\"sequence=\", '')\n",
    "                alt_len.setdefault(ies_id, []).append(len(sequence))\n",
    "                #Replace the above line with these two lines to count each read supporting alt excision\n",
    "                #support_variant = int(atoms[-1].split(\";\")[-3].replace(\"support_variant=\", ''))\n",
    "                #for i in range(support_variant):\n",
    "                    #alt_d.setdefault(ies_id, []).append(len(sequence))\n",
    "\n",
    "    alt_lens = []\n",
    "    for ies_id in alt_len:\n",
    "        for l in alt_len[ies_id]:\n",
    "            alt_lens.append(l)\n",
    "    \n",
    "    zahl += 1                \n",
    "    len_storage[KDs[zahl]].append(alt_lens)\n",
    "\n",
    "# if you want to plot \"IES\" and \"ALTERNATIVE\" for one KD\n",
    "ies_lens = ies_len.values()"
   ]
  },
  {
   "cell_type": "code",
   "execution_count": null,
   "id": "c23787ac",
   "metadata": {},
   "outputs": [],
   "source": []
  },
  {
   "cell_type": "code",
   "execution_count": null,
   "id": "a29ba4db",
   "metadata": {},
   "outputs": [],
   "source": []
  },
  {
   "cell_type": "code",
   "execution_count": null,
   "id": "cfbd4fb9",
   "metadata": {},
   "outputs": [],
   "source": []
  },
  {
   "cell_type": "code",
   "execution_count": 78,
   "id": "a7b46ff7",
   "metadata": {},
   "outputs": [],
   "source": [
    "#check how many IES with alternative excision >= 50% are common among all samples (except ND7)\n",
    "highs = []\n",
    "frac_cols = []\n",
    "for na in names:\n",
    "    high_50 = df[df[f\"{na}_frac\"] >= 50]\n",
    "    high_50 = high_50[['IES_ID', f\"{na}_frac\"]]\n",
    "    highs.append(high_50)\n",
    "    frac_cols.append(f\"{na}_frac\")\n",
    "\n",
    "# combine to one df\n",
    "df_high = reduce(lambda left,right: pd.merge(left,right,on=['IES_ID'], how='outer'), highs).fillna(np.nan)\n",
    "# throw out rows where ND7-KD is higher 50\n",
    "df_high_nN = df_high[~ (df_high['ND7-KD_frac'] >= 50)]"
   ]
  },
  {
   "cell_type": "code",
   "execution_count": 79,
   "id": "a6631aa6",
   "metadata": {},
   "outputs": [
    {
     "data": {
      "text/plain": [
       "(4973, 6)"
      ]
     },
     "execution_count": 79,
     "metadata": {},
     "output_type": "execute_result"
    }
   ],
   "source": [
    "df_high.shape"
   ]
  },
  {
   "cell_type": "code",
   "execution_count": 80,
   "id": "ef7674c1",
   "metadata": {},
   "outputs": [
    {
     "data": {
      "text/plain": [
       "(4029, 6)"
      ]
     },
     "execution_count": 80,
     "metadata": {},
     "output_type": "execute_result"
    }
   ],
   "source": [
    "df_high_nN.shape"
   ]
  },
  {
   "cell_type": "code",
   "execution_count": null,
   "id": "53acc240",
   "metadata": {},
   "outputs": [],
   "source": []
  },
  {
   "cell_type": "code",
   "execution_count": 70,
   "id": "b0f8e499",
   "metadata": {},
   "outputs": [
    {
     "name": "stdout",
     "output_type": "stream",
     "text": [
      "50.0\n",
      "50.0\n",
      "50.0\n",
      "50.0\n",
      "50.0\n"
     ]
    }
   ],
   "source": [
    "for na in names:\n",
    "    print(min(df_high[f\"{na}_frac\"]))"
   ]
  },
  {
   "cell_type": "code",
   "execution_count": 69,
   "id": "06054a1b",
   "metadata": {},
   "outputs": [
    {
     "data": {
      "text/html": [
       "<div>\n",
       "<style scoped>\n",
       "    .dataframe tbody tr th:only-of-type {\n",
       "        vertical-align: middle;\n",
       "    }\n",
       "\n",
       "    .dataframe tbody tr th {\n",
       "        vertical-align: top;\n",
       "    }\n",
       "\n",
       "    .dataframe thead th {\n",
       "        text-align: right;\n",
       "    }\n",
       "</style>\n",
       "<table border=\"1\" class=\"dataframe\">\n",
       "  <thead>\n",
       "    <tr style=\"text-align: right;\">\n",
       "      <th></th>\n",
       "      <th>IES_ID</th>\n",
       "      <th>ND7-KD_frac</th>\n",
       "      <th>ISWI1-KD_frac</th>\n",
       "      <th>ICOP1-KD_frac</th>\n",
       "      <th>ICOP2-KD_frac</th>\n",
       "      <th>ICOP1_2-KD_frac</th>\n",
       "    </tr>\n",
       "  </thead>\n",
       "  <tbody>\n",
       "    <tr>\n",
       "      <th>0</th>\n",
       "      <td>IESPGM.PTET51.1.100.126280</td>\n",
       "      <td>100.0</td>\n",
       "      <td>100.0</td>\n",
       "      <td>100.0</td>\n",
       "      <td>100.0</td>\n",
       "      <td>100.0</td>\n",
       "    </tr>\n",
       "    <tr>\n",
       "      <th>1</th>\n",
       "      <td>IESPGM.PTET51.1.100.155500</td>\n",
       "      <td>100.0</td>\n",
       "      <td>100.0</td>\n",
       "      <td>100.0</td>\n",
       "      <td>100.0</td>\n",
       "      <td>100.0</td>\n",
       "    </tr>\n",
       "    <tr>\n",
       "      <th>2</th>\n",
       "      <td>IESPGM.PTET51.1.100.244570</td>\n",
       "      <td>100.0</td>\n",
       "      <td>100.0</td>\n",
       "      <td>100.0</td>\n",
       "      <td>100.0</td>\n",
       "      <td>100.0</td>\n",
       "    </tr>\n",
       "    <tr>\n",
       "      <th>3</th>\n",
       "      <td>IESPGM.PTET51.1.100.289356</td>\n",
       "      <td>100.0</td>\n",
       "      <td>100.0</td>\n",
       "      <td>100.0</td>\n",
       "      <td>100.0</td>\n",
       "      <td>100.0</td>\n",
       "    </tr>\n",
       "    <tr>\n",
       "      <th>4</th>\n",
       "      <td>IESPGM.PTET51.1.101.114019</td>\n",
       "      <td>100.0</td>\n",
       "      <td>100.0</td>\n",
       "      <td>100.0</td>\n",
       "      <td>100.0</td>\n",
       "      <td>100.0</td>\n",
       "    </tr>\n",
       "  </tbody>\n",
       "</table>\n",
       "</div>"
      ],
      "text/plain": [
       "                       IES_ID  ND7-KD_frac  ISWI1-KD_frac  ICOP1-KD_frac  \\\n",
       "0  IESPGM.PTET51.1.100.126280        100.0          100.0          100.0   \n",
       "1  IESPGM.PTET51.1.100.155500        100.0          100.0          100.0   \n",
       "2  IESPGM.PTET51.1.100.244570        100.0          100.0          100.0   \n",
       "3  IESPGM.PTET51.1.100.289356        100.0          100.0          100.0   \n",
       "4  IESPGM.PTET51.1.101.114019        100.0          100.0          100.0   \n",
       "\n",
       "   ICOP2-KD_frac  ICOP1_2-KD_frac  \n",
       "0          100.0            100.0  \n",
       "1          100.0            100.0  \n",
       "2          100.0            100.0  \n",
       "3          100.0            100.0  \n",
       "4          100.0            100.0  "
      ]
     },
     "execution_count": 69,
     "metadata": {},
     "output_type": "execute_result"
    }
   ],
   "source": [
    "df_high[:5]"
   ]
  },
  {
   "cell_type": "code",
   "execution_count": 56,
   "id": "4fe6de7e",
   "metadata": {},
   "outputs": [
    {
     "data": {
      "text/plain": [
       "33870"
      ]
     },
     "execution_count": 56,
     "metadata": {},
     "output_type": "execute_result"
    }
   ],
   "source": [
    "len(df_data[df_data[f\"{names[count]}_frac\"]== 0])"
   ]
  },
  {
   "cell_type": "code",
   "execution_count": 54,
   "id": "e852b9e5",
   "metadata": {},
   "outputs": [
    {
     "data": {
      "text/plain": [
       "(44226, 16)"
      ]
     },
     "execution_count": 54,
     "metadata": {},
     "output_type": "execute_result"
    }
   ],
   "source": [
    "df.shape"
   ]
  },
  {
   "cell_type": "code",
   "execution_count": 55,
   "id": "72c7f5c8",
   "metadata": {},
   "outputs": [
    {
     "data": {
      "text/html": [
       "<div>\n",
       "<style scoped>\n",
       "    .dataframe tbody tr th:only-of-type {\n",
       "        vertical-align: middle;\n",
       "    }\n",
       "\n",
       "    .dataframe tbody tr th {\n",
       "        vertical-align: top;\n",
       "    }\n",
       "\n",
       "    .dataframe thead th {\n",
       "        text-align: right;\n",
       "    }\n",
       "</style>\n",
       "<table border=\"1\" class=\"dataframe\">\n",
       "  <thead>\n",
       "    <tr style=\"text-align: right;\">\n",
       "      <th></th>\n",
       "      <th>IES_ID</th>\n",
       "      <th>ND7-KD_std</th>\n",
       "      <th>ND7-KD_alt</th>\n",
       "      <th>ND7-KD_frac</th>\n",
       "      <th>ISWI1-KD_std</th>\n",
       "      <th>ISWI1-KD_alt</th>\n",
       "      <th>ISWI1-KD_frac</th>\n",
       "      <th>ICOP1-KD_std</th>\n",
       "      <th>ICOP1-KD_alt</th>\n",
       "      <th>ICOP1-KD_frac</th>\n",
       "      <th>ICOP2-KD_std</th>\n",
       "      <th>ICOP2-KD_alt</th>\n",
       "      <th>ICOP2-KD_frac</th>\n",
       "      <th>ICOP1_2-KD_std</th>\n",
       "      <th>ICOP1_2-KD_alt</th>\n",
       "      <th>ICOP1_2-KD_frac</th>\n",
       "    </tr>\n",
       "  </thead>\n",
       "  <tbody>\n",
       "    <tr>\n",
       "      <th>0</th>\n",
       "      <td>IESPGM.PTET51.1.100.218</td>\n",
       "      <td>2.0</td>\n",
       "      <td>0.0</td>\n",
       "      <td>0.0</td>\n",
       "      <td>3.0</td>\n",
       "      <td>0.0</td>\n",
       "      <td>0.000000</td>\n",
       "      <td>1.0</td>\n",
       "      <td>0.0</td>\n",
       "      <td>0.0</td>\n",
       "      <td>1.0</td>\n",
       "      <td>0.0</td>\n",
       "      <td>0.0</td>\n",
       "      <td>NaN</td>\n",
       "      <td>NaN</td>\n",
       "      <td>NaN</td>\n",
       "    </tr>\n",
       "    <tr>\n",
       "      <th>1</th>\n",
       "      <td>IESPGM.PTET51.1.100.348</td>\n",
       "      <td>3.0</td>\n",
       "      <td>0.0</td>\n",
       "      <td>0.0</td>\n",
       "      <td>6.0</td>\n",
       "      <td>3.0</td>\n",
       "      <td>0.333333</td>\n",
       "      <td>NaN</td>\n",
       "      <td>NaN</td>\n",
       "      <td>NaN</td>\n",
       "      <td>NaN</td>\n",
       "      <td>NaN</td>\n",
       "      <td>NaN</td>\n",
       "      <td>1.0</td>\n",
       "      <td>0.0</td>\n",
       "      <td>0.0</td>\n",
       "    </tr>\n",
       "    <tr>\n",
       "      <th>2</th>\n",
       "      <td>IESPGM.PTET51.1.100.478</td>\n",
       "      <td>5.0</td>\n",
       "      <td>0.0</td>\n",
       "      <td>0.0</td>\n",
       "      <td>4.0</td>\n",
       "      <td>1.0</td>\n",
       "      <td>0.200000</td>\n",
       "      <td>6.0</td>\n",
       "      <td>0.0</td>\n",
       "      <td>0.0</td>\n",
       "      <td>4.0</td>\n",
       "      <td>0.0</td>\n",
       "      <td>0.0</td>\n",
       "      <td>3.0</td>\n",
       "      <td>0.0</td>\n",
       "      <td>0.0</td>\n",
       "    </tr>\n",
       "    <tr>\n",
       "      <th>3</th>\n",
       "      <td>IESPGM.PTET51.1.100.600</td>\n",
       "      <td>6.0</td>\n",
       "      <td>0.0</td>\n",
       "      <td>0.0</td>\n",
       "      <td>7.0</td>\n",
       "      <td>0.0</td>\n",
       "      <td>0.000000</td>\n",
       "      <td>7.0</td>\n",
       "      <td>0.0</td>\n",
       "      <td>0.0</td>\n",
       "      <td>1.0</td>\n",
       "      <td>0.0</td>\n",
       "      <td>0.0</td>\n",
       "      <td>9.0</td>\n",
       "      <td>0.0</td>\n",
       "      <td>0.0</td>\n",
       "    </tr>\n",
       "    <tr>\n",
       "      <th>4</th>\n",
       "      <td>IESPGM.PTET51.1.100.989</td>\n",
       "      <td>3.0</td>\n",
       "      <td>0.0</td>\n",
       "      <td>0.0</td>\n",
       "      <td>2.0</td>\n",
       "      <td>0.0</td>\n",
       "      <td>0.000000</td>\n",
       "      <td>NaN</td>\n",
       "      <td>NaN</td>\n",
       "      <td>NaN</td>\n",
       "      <td>1.0</td>\n",
       "      <td>0.0</td>\n",
       "      <td>0.0</td>\n",
       "      <td>NaN</td>\n",
       "      <td>NaN</td>\n",
       "      <td>NaN</td>\n",
       "    </tr>\n",
       "  </tbody>\n",
       "</table>\n",
       "</div>"
      ],
      "text/plain": [
       "                    IES_ID  ND7-KD_std  ND7-KD_alt  ND7-KD_frac  ISWI1-KD_std  \\\n",
       "0  IESPGM.PTET51.1.100.218         2.0         0.0          0.0           3.0   \n",
       "1  IESPGM.PTET51.1.100.348         3.0         0.0          0.0           6.0   \n",
       "2  IESPGM.PTET51.1.100.478         5.0         0.0          0.0           4.0   \n",
       "3  IESPGM.PTET51.1.100.600         6.0         0.0          0.0           7.0   \n",
       "4  IESPGM.PTET51.1.100.989         3.0         0.0          0.0           2.0   \n",
       "\n",
       "   ISWI1-KD_alt  ISWI1-KD_frac  ICOP1-KD_std  ICOP1-KD_alt  ICOP1-KD_frac  \\\n",
       "0           0.0       0.000000           1.0           0.0            0.0   \n",
       "1           3.0       0.333333           NaN           NaN            NaN   \n",
       "2           1.0       0.200000           6.0           0.0            0.0   \n",
       "3           0.0       0.000000           7.0           0.0            0.0   \n",
       "4           0.0       0.000000           NaN           NaN            NaN   \n",
       "\n",
       "   ICOP2-KD_std  ICOP2-KD_alt  ICOP2-KD_frac  ICOP1_2-KD_std  ICOP1_2-KD_alt  \\\n",
       "0           1.0           0.0            0.0             NaN             NaN   \n",
       "1           NaN           NaN            NaN             1.0             0.0   \n",
       "2           4.0           0.0            0.0             3.0             0.0   \n",
       "3           1.0           0.0            0.0             9.0             0.0   \n",
       "4           1.0           0.0            0.0             NaN             NaN   \n",
       "\n",
       "   ICOP1_2-KD_frac  \n",
       "0              NaN  \n",
       "1              0.0  \n",
       "2              0.0  \n",
       "3              0.0  \n",
       "4              NaN  "
      ]
     },
     "execution_count": 55,
     "metadata": {},
     "output_type": "execute_result"
    }
   ],
   "source": [
    "df[:5]"
   ]
  },
  {
   "cell_type": "code",
   "execution_count": 36,
   "id": "251d6e4d",
   "metadata": {},
   "outputs": [
    {
     "data": {
      "text/plain": [
       "(41767, 2)"
      ]
     },
     "execution_count": 36,
     "metadata": {},
     "output_type": "execute_result"
    }
   ],
   "source": [
    "df_ies.shape"
   ]
  },
  {
   "cell_type": "code",
   "execution_count": 38,
   "id": "eb47be59",
   "metadata": {},
   "outputs": [
    {
     "data": {
      "text/plain": [
       "(41767, 2)"
      ]
     },
     "execution_count": 38,
     "metadata": {},
     "output_type": "execute_result"
    }
   ],
   "source": [
    "df_alt.shape"
   ]
  },
  {
   "cell_type": "code",
   "execution_count": 39,
   "id": "0e74a981",
   "metadata": {},
   "outputs": [
    {
     "data": {
      "text/plain": [
       "(41767, 3)"
      ]
     },
     "execution_count": 39,
     "metadata": {},
     "output_type": "execute_result"
    }
   ],
   "source": [
    "df_data.shape"
   ]
  },
  {
   "cell_type": "code",
   "execution_count": 44,
   "id": "b104522a",
   "metadata": {},
   "outputs": [
    {
     "data": {
      "text/html": [
       "<div>\n",
       "<style scoped>\n",
       "    .dataframe tbody tr th:only-of-type {\n",
       "        vertical-align: middle;\n",
       "    }\n",
       "\n",
       "    .dataframe tbody tr th {\n",
       "        vertical-align: top;\n",
       "    }\n",
       "\n",
       "    .dataframe thead th {\n",
       "        text-align: right;\n",
       "    }\n",
       "</style>\n",
       "<table border=\"1\" class=\"dataframe\">\n",
       "  <thead>\n",
       "    <tr style=\"text-align: right;\">\n",
       "      <th></th>\n",
       "      <th>IES_ID</th>\n",
       "      <th>ICOP1_2-KD_std</th>\n",
       "      <th>ICOP1_2-KD_alt</th>\n",
       "      <th>ICOP1_2-KD_frac</th>\n",
       "    </tr>\n",
       "  </thead>\n",
       "  <tbody>\n",
       "    <tr>\n",
       "      <th>23</th>\n",
       "      <td>IESPGM.PTET51.1.100.30724</td>\n",
       "      <td>5</td>\n",
       "      <td>2</td>\n",
       "      <td>0.285714</td>\n",
       "    </tr>\n",
       "    <tr>\n",
       "      <th>25</th>\n",
       "      <td>IESPGM.PTET51.1.100.40357</td>\n",
       "      <td>6</td>\n",
       "      <td>3</td>\n",
       "      <td>0.333333</td>\n",
       "    </tr>\n",
       "    <tr>\n",
       "      <th>27</th>\n",
       "      <td>IESPGM.PTET51.1.100.43950</td>\n",
       "      <td>3</td>\n",
       "      <td>1</td>\n",
       "      <td>0.250000</td>\n",
       "    </tr>\n",
       "    <tr>\n",
       "      <th>30</th>\n",
       "      <td>IESPGM.PTET51.1.100.48715</td>\n",
       "      <td>3</td>\n",
       "      <td>1</td>\n",
       "      <td>0.250000</td>\n",
       "    </tr>\n",
       "    <tr>\n",
       "      <th>32</th>\n",
       "      <td>IESPGM.PTET51.1.100.51654</td>\n",
       "      <td>4</td>\n",
       "      <td>1</td>\n",
       "      <td>0.200000</td>\n",
       "    </tr>\n",
       "  </tbody>\n",
       "</table>\n",
       "</div>"
      ],
      "text/plain": [
       "                       IES_ID  ICOP1_2-KD_std  ICOP1_2-KD_alt  ICOP1_2-KD_frac\n",
       "23  IESPGM.PTET51.1.100.30724               5               2         0.285714\n",
       "25  IESPGM.PTET51.1.100.40357               6               3         0.333333\n",
       "27  IESPGM.PTET51.1.100.43950               3               1         0.250000\n",
       "30  IESPGM.PTET51.1.100.48715               3               1         0.250000\n",
       "32  IESPGM.PTET51.1.100.51654               4               1         0.200000"
      ]
     },
     "execution_count": 44,
     "metadata": {},
     "output_type": "execute_result"
    }
   ],
   "source": [
    "df_show = df_data[df_data['ICOP1_2-KD_alt'] > 0]\n",
    "df_show[:5]"
   ]
  },
  {
   "cell_type": "code",
   "execution_count": 60,
   "id": "161baeee",
   "metadata": {},
   "outputs": [
    {
     "data": {
      "text/plain": [
       "0.0"
      ]
     },
     "execution_count": 60,
     "metadata": {},
     "output_type": "execute_result"
    }
   ],
   "source": [
    "min(df_data['ICOP1_2-KD_frac'])"
   ]
  },
  {
   "cell_type": "code",
   "execution_count": 34,
   "id": "e8ec8390",
   "metadata": {},
   "outputs": [
    {
     "name": "stdout",
     "output_type": "stream",
     "text": [
      "Mustang\n"
     ]
    }
   ],
   "source": [
    "car = {\n",
    "  \"brand\": \"Ford\",\n",
    "  \"model\": \"Mustang\",\n",
    "  \"year\": 1964\n",
    "}\n",
    "\n",
    "x = car.setdefault(\"model\", \"Bronco\")\n",
    "\n",
    "print(x)"
   ]
  },
  {
   "cell_type": "code",
   "execution_count": null,
   "id": "4eee27e6",
   "metadata": {},
   "outputs": [],
   "source": [
    "#this script analyses the percentage of alternative excision for each IES\n",
    "# incoorperate storage of alternative excision in data frames\n",
    "\n",
    "kd_alt_fracs = []\n",
    "fns = [\"ND7_down_MILORD.gff3.gz\",\"ISWI1_down_MILORD.gff3.gz\",\"ICOP1_down_MILORD.gff3.gz\",\n",
    "       \"ICOP2_down_MILORD.gff3.gz\", \"ICOP1_2_MILORD.gff3.gz\"]\n",
    "names = [\"ND7-KD\",\"ISWI1-KD\",\"ICOP1-KD\", \"ICOP2-KD\", \"ICOP1_2-KD\"]\n",
    "\n",
    "count = int(-1)\n",
    "#storage = OrderedDict([(na, []) for na in names])\n",
    "columns = []\n",
    "\n",
    "#loop through samples\n",
    "for fn in fns:\n",
    "    count += 1\n",
    "    ies_d = {}\n",
    "    alt_d = {}\n",
    "    \n",
    "    #for each line acquire the stored data\n",
    "    for line in gzip.open(fn, mode='rt'):\n",
    "        if line[0] != '#':\n",
    "            atoms = line.split()  \n",
    "            \n",
    "            ies_id = atoms[-1].split(\";\")[5].replace(\"ies_id=\", '')\n",
    "            kind = atoms[-1].split(\";\")[-2].replace(\"type=\", '')\n",
    "\n",
    "            #for each properly excised IES store the number of reads\n",
    "            if kind == 'IES':\n",
    "                read_names = atoms[-1].split(\";\")[10].replace(\"read_names=\", '').split(\",\")\n",
    "                ies_d.setdefault(ies_id, 0)\n",
    "                ies_d[ies_id] += len(read_names)\n",
    "                alt_d.setdefault(ies_id, 0)\n",
    "            #for each alternatively excised IES store the number of reads (adds up for subtypes)\n",
    "            elif kind == 'ALTERNATIVE':\n",
    "                read_names = atoms[-1].split(\";\")[10].replace(\"read_names=\", '').split(\",\")\n",
    "                alt_d.setdefault(ies_id, 0)\n",
    "                alt_d[ies_id] += len(read_names)\n",
    "                \n",
    "    df_ies = pd.DataFrame.from_dict(ies_d, )\n",
    "               \n",
    "\n",
    "    alt_fracs = []  \n",
    "    \n",
    "    for ies in ies_d:\n",
    "        alt_count = alt_d[ies]\n",
    "        ies_count = ies_d[ies]\n",
    "        alt_frac = 100*float(alt_count)/(alt_count + ies_count) \n",
    "        alt_fracs.append(alt_frac)\n",
    "        \n",
    "    kd_alt_fracs.append(alt_fracs)\n",
    "    \n",
    "    colnames = ['sample','median', 'mean', 'all IES','IES==0', 'IES>0','IES>=50']\n",
    "    columns.append([names[count], median(alt_fracs), mean(alt_fracs), len(ies_d), \n",
    "                    len([ies for ies in alt_d if alt_d[ies] == 0]),\n",
    "                    len([ies for ies in alt_d if alt_d[ies] > 0]), \n",
    "                    len([1 for alt_frac in alt_fracs if alt_frac >= 50])])\n",
    "\n",
    "table = pd.DataFrame(columns, columns = colnames).T\n",
    "print(table.T)\n",
    "#table.T.to_csv('ICOP-alex-medians.csv')"
   ]
  },
  {
   "cell_type": "code",
   "execution_count": 2,
   "id": "048fd9f8",
   "metadata": {},
   "outputs": [
    {
     "name": "stdout",
     "output_type": "stream",
     "text": [
      "       sample    median      mean all IES IES==0  IES>0 IES>=50\n",
      "0      ND7-KD       0.0  1.077688   40680  39164   2147     313\n",
      "1    ISWI1-KD  4.347826  9.180032   43171  18222  25761    1151\n",
      "2    ICOP1-KD       0.0   7.01325   41349  28106  14131    1356\n",
      "3    ICOP2-KD       0.0  4.181224   40785  34036   7537     906\n",
      "4  ICOP1_2-KD       0.0  4.711392   40972  33870   7897    1196\n"
     ]
    }
   ],
   "source": [
    "#this script analyses the percentage of alternative excision for each IES\n",
    "\n",
    "kd_alt_fracs = []\n",
    "fns = [\"ND7_down_MILORD.gff3.gz\",\"ISWI1_down_MILORD.gff3.gz\",\"ICOP1_down_MILORD.gff3.gz\",\n",
    "       \"ICOP2_down_MILORD.gff3.gz\", \"ICOP1_2_MILORD.gff3.gz\"]\n",
    "names = [\"ND7-KD\",\"ISWI1-KD\",\"ICOP1-KD\", \"ICOP2-KD\", \"ICOP1_2-KD\"]\n",
    "\n",
    "count = int(-1)\n",
    "storage = OrderedDict([(na, []) for na in names])\n",
    "columns = []\n",
    "\n",
    "#loop through samples\n",
    "for fn in fns:\n",
    "    count += 1\n",
    "    ies_d = {}\n",
    "    alt_d = {}\n",
    "    \n",
    "    #for each line acquire the stored data\n",
    "    for line in gzip.open(fn, mode='rt'):\n",
    "        if line[0] != '#':\n",
    "            atoms = line.split()  \n",
    "            \n",
    "            ies_id = atoms[-1].split(\";\")[5].replace(\"ies_id=\", '')\n",
    "            kind = atoms[-1].split(\";\")[-2].replace(\"type=\", '')\n",
    "\n",
    "            #for each properly excised IES store the number of reads\n",
    "            if kind == 'IES':\n",
    "                read_names = atoms[-1].split(\";\")[10].replace(\"read_names=\", '').split(\",\")\n",
    "                ies_d.setdefault(ies_id, 0)\n",
    "                ies_d[ies_id] += len(read_names)\n",
    "                alt_d.setdefault(ies_id, 0)\n",
    "            #for each alternatively excised IES store the number of reads (adds up for subtypes)\n",
    "            elif kind == 'ALTERNATIVE':\n",
    "                read_names = atoms[-1].split(\";\")[10].replace(\"read_names=\", '').split(\",\")\n",
    "                alt_d.setdefault(ies_id, 0)\n",
    "                alt_d[ies_id] += len(read_names)\n",
    "               \n",
    "\n",
    "    alt_fracs = []  \n",
    "    \n",
    "    for ies in ies_d:\n",
    "        alt_count = alt_d[ies]\n",
    "        ies_count = ies_d[ies]\n",
    "        alt_frac = 100*float(alt_count)/(alt_count + ies_count) \n",
    "        alt_fracs.append(alt_frac)\n",
    "        \n",
    "    kd_alt_fracs.append(alt_fracs)\n",
    "    \n",
    "    colnames = ['sample','median', 'mean', 'all IES','IES==0', 'IES>0','IES>=50']\n",
    "    columns.append([names[count], median(alt_fracs), mean(alt_fracs), len(ies_d), \n",
    "                    len([ies for ies in alt_d if alt_d[ies] == 0]),\n",
    "                    len([ies for ies in alt_d if alt_d[ies] > 0]), \n",
    "                    len([1 for alt_frac in alt_fracs if alt_frac >= 50])])\n",
    "\n",
    "table = pd.DataFrame(columns, columns = colnames).T\n",
    "print(table.T)\n",
    "#table.T.to_csv('ICOP-alex-medians.csv')"
   ]
  },
  {
   "cell_type": "code",
   "execution_count": 165,
   "id": "c6ab2d9c",
   "metadata": {},
   "outputs": [
    {
     "data": {
      "text/plain": [
       "38"
      ]
     },
     "execution_count": 165,
     "metadata": {},
     "output_type": "execute_result"
    }
   ],
   "source": [
    "#check how many IES with alternative excision >= 50% are common among all samples (except ND7)\n",
    "in_common = []\n",
    "\n",
    "for key in storage['ISWI1-KD'][0][0]:\n",
    "    if key in storage['ICOP1-KD'][0][0]:\n",
    "        if key in storage['ICOP2-KD'][0][0]:\n",
    "            if key in storage['ICOP1_2-KD'][0][0]:\n",
    "                in_common.append(key)\n",
    "len(in_common)"
   ]
  },
  {
   "cell_type": "code",
   "execution_count": 3,
   "id": "5812f224",
   "metadata": {},
   "outputs": [
    {
     "data": {
      "image/png": "[encoded data removed]",
      "text/plain": [
       "<Figure size 792x504 with 1 Axes>"
      ]
     },
     "metadata": {
      "needs_background": "light"
     },
     "output_type": "display_data"
    }
   ],
   "source": [
    "#plot the genome-wide alternative excision distribution (non-cropped)\n",
    "\n",
    "plt.figure(figsize=(11,7))\n",
    "hist(kd_alt_fracs, bins=20, ec='white', log=False, \n",
    "     color=['green', 'navy', 'sienna', 'orange', 'red'],\n",
    "     label=names)\n",
    "axis(ymax=41000, xmax=100, xmin=0)\n",
    "plt.ylabel(\"Number of IESs\", wrap = True, fontsize = 20)\n",
    "plt.xlabel(\"alternative excision (%)\", wrap = True, fontsize = 20)\n",
    "plt.xticks(fontsize=20)\n",
    "plt.yticks(fontsize=20)\n",
    "plt.legend(fontsize = 27);\n",
    "\n",
    "\n",
    "#plt.savefig(\"ICOPs_alt-ex_100_down.pdf\", bbox_inches='tight')"
   ]
  },
  {
   "cell_type": "code",
   "execution_count": 9,
   "id": "ebcc66b3",
   "metadata": {},
   "outputs": [
    {
     "data": {
      "image/png": "[encoded data removed]",
      "text/plain": [
       "<Figure size 792x504 with 1 Axes>"
      ]
     },
     "metadata": {
      "needs_background": "light"
     },
     "output_type": "display_data"
    }
   ],
   "source": [
    "#plot the genome-wide alternative excision distribution (cropped)\n",
    "\n",
    "plt.figure(figsize=(11,7))\n",
    "hist(kd_alt_fracs, bins=20, ec='white', log=False, \n",
    "     color=['green', 'navy', 'sienna', 'orange', 'red'],\n",
    "     label=names)\n",
    "axis(ymax=10000, xmax=100, xmin=0)\n",
    "plt.ylabel(\"Number of IESs\", wrap = True, fontsize = 20)\n",
    "plt.xlabel(\"alternative excision (%)\", wrap = True, fontsize = 20)\n",
    "plt.xticks(fontsize=20)\n",
    "plt.yticks(fontsize=20)\n",
    "plt.legend(fontsize = 20);\n",
    "\n",
    "\n",
    "#plt.savefig(\"ICOPs_alt-ex_100_downS.pdf\", bbox_inches='tight')"
   ]
  },
  {
   "cell_type": "markdown",
   "id": "df4983d7",
   "metadata": {},
   "source": [
    "## Length distribution of alternatively excised IESs"
   ]
  },
  {
   "cell_type": "code",
   "execution_count": 14,
   "id": "604c1ae2",
   "metadata": {},
   "outputs": [],
   "source": [
    "#this script acquires the lengths of alternatively excised IESs\n",
    "\n",
    "fns = [\"ND7_down_MILORD.gff3.gz\",\"ISWI1_down_MILORD.gff3.gz\",\"ICOP1_down_MILORD.gff3.gz\",\n",
    "       \"ICOP2_down_MILORD.gff3.gz\", \"ICOP1_2_MILORD.gff3.gz\"]\n",
    "KDs=[\"ND7\",\"ISWI1\",\"ICOP1\",\"ICOP2\",\"ICOP1_2\"]\n",
    "\n",
    "len_storage = OrderedDict([(na, []) for na in KDs])\n",
    "zahl = int(-1)\n",
    "\n",
    "#loop through the samples\n",
    "for fn in fns:\n",
    "    ies_len = {}\n",
    "    alt_len = {}\n",
    "    \n",
    "    #for each line acquire the stored data\n",
    "    for line in gzip.open(fn, mode='rt'):\n",
    "        if line[0] != '#':\n",
    "            atoms = line.split()  \n",
    "            ies_id = atoms[-1].split(\";\")[5].replace(\"ies_id=\", '')\n",
    "            kind = atoms[-1].split(\";\")[-2].replace(\"type=\", '')\n",
    "            subtype = atoms[-1].split(\";\")[-5].replace(\"subtype=\", '')\n",
    "            \n",
    "            if kind == 'IES':\n",
    "                sequence = atoms[-1].split(\";\")[11].replace(\"sequence=\", '')\n",
    "                ies_len[ies_id] = len(sequence)\n",
    "            #for alternatively excised IES store the length of the alternative IES\n",
    "            elif kind == 'ALTERNATIVE':\n",
    "                sequence = atoms[-1].split(\";\")[11].replace(\"sequence=\", '')\n",
    "                alt_len.setdefault(ies_id, []).append(len(sequence))\n",
    "                #Replace the above line with these two lines to count each read supporting alt excision\n",
    "                #support_variant = int(atoms[-1].split(\";\")[-3].replace(\"support_variant=\", ''))\n",
    "                #for i in range(support_variant):\n",
    "                    #alt_d.setdefault(ies_id, []).append(len(sequence))\n",
    "\n",
    "    alt_lens = []\n",
    "    for ies_id in alt_len:\n",
    "        for l in alt_len[ies_id]:\n",
    "            alt_lens.append(l)\n",
    "    \n",
    "    zahl += 1                \n",
    "    len_storage[KDs[zahl]].append(alt_lens)\n",
    "\n",
    "# if you want to plot \"IES\" and \"ALTERNATIVE\" for one KD\n",
    "ies_lens = ies_len.values()"
   ]
  },
  {
   "cell_type": "code",
   "execution_count": 23,
   "id": "03bca055",
   "metadata": {},
   "outputs": [
    {
     "data": {
      "image/png": "[encoded data removed]",
      "text/plain": [
       "<Figure size 864x576 with 5 Axes>"
      ]
     },
     "metadata": {
      "needs_background": "light"
     },
     "output_type": "display_data"
    }
   ],
   "source": [
    "#set basic figure parameters\n",
    "\n",
    "#plt.rcParams['figure.figsize'] = [12, 8]\n",
    "\n",
    "fig, (ax0, ax1, ax2, ax3, ax4) = plt.subplots(nrows=5, ncols=1, sharex=True, figsize = (12,8));\n",
    "\n",
    "ax0.hist(len_storage['ND7'], bins=range(20, 220, 1), ec='white', fc='green', \n",
    "         label = \"ND7-KD\");\n",
    "ax1.hist(len_storage['ISWI1'], bins=range(20, 220, 1), ec='white', fc='navy', \n",
    "         label = \"ISWI1-KD\");\n",
    "ax2.hist(len_storage['ICOP1'], bins=range(20, 220, 1), ec='white', fc='sienna', \n",
    "         label = \"ICOP1-KD\");\n",
    "ax3.hist(len_storage['ICOP2'], bins=range(20, 220, 1), ec='white', fc='orange', \n",
    "         label = \"ICOP2-KD\");\n",
    "ax4.hist(len_storage['ICOP1_2'], bins=range(20, 220, 1), ec='white', fc='red', \n",
    "         label = \"ICOP1_2-KD\");\n",
    "\n",
    "ax0.legend(fontsize=20);\n",
    "ax1.legend(fontsize=20);\n",
    "ax2.legend(fontsize=20);\n",
    "ax3.legend(fontsize=20);\n",
    "ax4.legend(fontsize=20);\n",
    "\n",
    "ax0.tick_params(axis='both', which='major', labelsize=20)\n",
    "ax1.tick_params(axis='both', which='major', labelsize=20)\n",
    "ax2.tick_params(axis='both', which='major', labelsize=20)\n",
    "ax3.tick_params(axis='both', which='major', labelsize=20)\n",
    "ax4.tick_params(axis='both', which='major', labelsize=20)\n",
    "\n",
    "ax4.set_xlabel('IES length [bp]', fontsize=25)\n",
    "ax4.set_xlim([20,220]);\n",
    "\n",
    "fig.suptitle(\"Alternatively excised IESs\", fontsize=20);\n",
    "fig.text(0.00001, 0.5, 'Number of IESs', ha='center', va='center', fontsize=25, rotation='vertical');\n",
    "fig.tight_layout();\n",
    "\n",
    "#fig.savefig(\"ICOPs_alt_length_down.pdf\", bbox_inches='tight')"
   ]
  },
  {
   "cell_type": "markdown",
   "id": "69c4b0c5",
   "metadata": {},
   "source": [
    "## Length differences partial internally and partial externally excised IESs"
   ]
  },
  {
   "cell_type": "code",
   "execution_count": 15,
   "id": "04c9ff2a",
   "metadata": {},
   "outputs": [
    {
     "name": "stdout",
     "output_type": "stream",
     "text": [
      "ND7 gff3 file has 44623 lines. 720 are entries with internal and 771 are entries with extranl excision.\n",
      "ISWI1 gff3 file has 100510 lines. 21264 are entries with internal and 20932 are entries with extranl excision.\n",
      "ICOP1 gff3 file has 62404 lines. 10518 are entries with internal and 5152 are entries with extranl excision.\n",
      "ICOP2 gff3 file has 50639 lines. 4962 are entries with internal and 2398 are entries with extranl excision.\n",
      "ICOP1_2 gff3 file has 52686 lines. 4390 are entries with internal and 3162 are entries with extranl excision.\n"
     ]
    }
   ],
   "source": [
    "#this script is to analyse parially internal and partially external excision\n",
    "\n",
    "#Read IES length data into dataframe\n",
    "colnames=['IES', 'IES_length'] \n",
    "df_lengths = pd.read_csv(\"IES_lengths.txt\", sep=\" \", header = None, names=colnames)\n",
    "\n",
    "#specify the files you want to work on and the names you want to call them\n",
    "unzip_gff = [\"ND7_down_MILORD.gff3\",\"ISWI1_down_MILORD.gff3\", \"ICOP1_down_MILORD.gff3\", \"ICOP2_down_MILORD.gff3\",\n",
    "       \"ICOP1_2_MILORD.gff3\"]\n",
    "sam =[\"ND7\",\"ISWI1\",\"ICOP1\",\"ICOP2\",\"ICOP1_2\"]\n",
    "\n",
    "partial_storage = OrderedDict([(na, []) for na in sam])\n",
    "zahl = int(-1)\n",
    "\n",
    "#loop through KD data sets and read them into df\n",
    "for fn in unzip_gff:\n",
    "    zahl += 1\n",
    "    alt = gffpd.read_gff3(fn)\n",
    "    #create dfs with lines of the gff containing either internally or externally excised IESs\n",
    "    df_alt_internal = alt.df[alt.df['attributes'].str.contains(\"PARTIAL_INTERNAL\")]\n",
    "    df_alt_external = alt.df[alt.df['attributes'].str.contains(\"PARTIAL_EXTERNAL\")]\n",
    "    #for santity checks\n",
    "    #print(len(alt.df))\n",
    "    #print(len(df_alt_internal))\n",
    "    #print(len(df_alt_external))\n",
    "    print(sam[zahl],'gff3 file has',len(alt.df),'lines.',len(df_alt_internal),\n",
    "          'are entries with internal and',len(df_alt_external),'are entries with extranl excision.')\n",
    "    \n",
    "    #store all internally exicised IESs with their length difference in a dict\n",
    "    len_d_int = {}\n",
    "\n",
    "    for row in df_alt_internal.iterrows():\n",
    "        #get the length of the alternative IES feature (end and start are column names in df)\n",
    "        ies_len = row[1].end - row[1].start\n",
    "        #get the name of the reference IES\n",
    "        IES = [a for a in row[1]['attributes'].split(\";\") if \"ies_id\" in a][0].split(\"=\")[1]\n",
    "        #get the length of the reference IES using the name stored in \"IES\" variable\n",
    "        ref_ies_len = int(df_lengths.loc[df_lengths['IES'] == IES][\"IES_length\"])\n",
    "        #is this needed? also not completely correct: count = 'support_variant=2' ( .split(\"=\")[1]) is missing)\n",
    "        #count = [a for a in row[1]['attributes'].split(\";\") if \"support_variant\" in a][0]\n",
    "        len_d_int.setdefault(IES, []).append(ref_ies_len - ies_len)\n",
    "    \n",
    "    #put the length differences (multiple for IESs possible) without IESs association in list\n",
    "    all_lens_int = []\n",
    "    for ies in len_d_int:\n",
    "        for alen in len_d_int[ies]:\n",
    "            all_lens_int.append(alen)\n",
    "    \n",
    "    #store all externally exicised IESs with their length difference in a dict\n",
    "    len_d_ext = {}\n",
    "\n",
    "    for row in df_alt_external.iterrows():\n",
    "        ies_len = row[1].end - row[1].start\n",
    "        IES = [a for a in row[1]['attributes'].split(\";\") if \"ies_id\" in a][0].split(\"=\")[1]\n",
    "        ref_ies_len = int(df_lengths.loc[df_lengths['IES'] == IES][\"IES_length\"])\n",
    "        #count = [a for a in row[1]['attributes'].split(\";\") if \"support_variant\" in a][0]\n",
    "        len_d_ext.setdefault(IES, []).append(ref_ies_len - ies_len)\n",
    "    \n",
    "    #put the length differences (multiple for IESs possible) without IESs association in list\n",
    "    all_ext_lens = []\n",
    "    for ies in len_d_ext:\n",
    "        for alen in len_d_ext[ies]:\n",
    "            all_ext_lens.append(alen)\n",
    "    \n",
    "    #store both list in a list\n",
    "    my_list = [all_ext_lens, all_lens_int]\n",
    "    #store the name of the KD with both lists in the storage dict\n",
    "    partial_storage[sam[zahl]].append(my_list)"
   ]
  },
  {
   "cell_type": "code",
   "execution_count": 67,
   "id": "17226630",
   "metadata": {},
   "outputs": [
    {
     "ename": "NameError",
     "evalue": "name 'lines' is not defined",
     "output_type": "error",
     "traceback": [
      "\u001b[0;31m---------------------------------------------------------------------------\u001b[0m",
      "\u001b[0;31mNameError\u001b[0m                                 Traceback (most recent call last)",
      "\u001b[0;32m<ipython-input-67-ca2a50481665>\u001b[0m in \u001b[0;36m<module>\u001b[0;34m\u001b[0m\n\u001b[1;32m     17\u001b[0m \u001b[0mresult\u001b[0m \u001b[0;34m=\u001b[0m \u001b[0mdefaultdict\u001b[0m\u001b[0;34m(\u001b[0m\u001b[0mlist\u001b[0m\u001b[0;34m)\u001b[0m\u001b[0;34m\u001b[0m\u001b[0;34m\u001b[0m\u001b[0m\n\u001b[1;32m     18\u001b[0m \u001b[0;34m\u001b[0m\u001b[0m\n\u001b[0;32m---> 19\u001b[0;31m \u001b[0;32mfor\u001b[0m \u001b[0mi\u001b[0m\u001b[0;34m,\u001b[0m \u001b[0mline\u001b[0m \u001b[0;32min\u001b[0m \u001b[0menumerate\u001b[0m\u001b[0;34m(\u001b[0m\u001b[0mlines\u001b[0m\u001b[0;34m(\u001b[0m\u001b[0mfilename\u001b[0m\u001b[0;34m)\u001b[0m\u001b[0;34m)\u001b[0m\u001b[0;34m:\u001b[0m\u001b[0;34m\u001b[0m\u001b[0;34m\u001b[0m\u001b[0m\n\u001b[0m\u001b[1;32m     20\u001b[0m     \u001b[0;32mfor\u001b[0m \u001b[0mkey\u001b[0m \u001b[0;32min\u001b[0m \u001b[0mline\u001b[0m\u001b[0;34m.\u001b[0m\u001b[0mkeys\u001b[0m\u001b[0;34m(\u001b[0m\u001b[0;34m)\u001b[0m\u001b[0;34m:\u001b[0m\u001b[0;34m\u001b[0m\u001b[0;34m\u001b[0m\u001b[0m\n\u001b[1;32m     21\u001b[0m         \u001b[0;31m# This key has not been seen yet, so set it to None for all\u001b[0m\u001b[0;34m\u001b[0m\u001b[0;34m\u001b[0m\u001b[0;34m\u001b[0m\u001b[0m\n",
      "\u001b[0;31mNameError\u001b[0m: name 'lines' is not defined"
     ]
    }
   ],
   "source": [
    "#this script is to analyse parially internal and partially external excision\n",
    "\n",
    "from collections import defaultdict\n",
    "\n",
    "#Read IES length data into dataframe\n",
    "colnames=['IES', 'IES_length'] \n",
    "df_lengths = pd.read_csv(\"IES_lengths.txt\", sep=\" \", header = None, names=colnames)\n",
    "\n",
    "#specify the files you want to work on and the names you want to call them\n",
    "fns = [\"ND7_down_MILORD.gff3.gz\",\"ISWI1_down_MILORD.gff3.gz\",\"ICOP1_down_MILORD.gff3.gz\",\n",
    "       \"ICOP2_down_MILORD.gff3.gz\", \"ICOP1_2_MILORD.gff3.gz\"]\n",
    "sam = [\"ND7-KD\",\"ISWI1-KD\",\"ICOP1-KD\", \"ICOP2-KD\", \"ICOP1_2-KD\"]\n",
    "\n",
    "partial_storage = OrderedDict([(na, []) for na in sam])\n",
    "zahl = int(-1)\n",
    "\n",
    "result = defaultdict(list)\n",
    "\n",
    "for i, line in enumerate(lines(filename)):\n",
    "    for key in line.keys():\n",
    "        # This key has not been seen yet, so set it to None for all\n",
    "        # previous lines.\n",
    "        if key not in result:\n",
    "            result[key] = [None] * i\n",
    "\n",
    "        # Ensure this row has some value for each column.\n",
    "        for key in result.keys():\n",
    "            result[key].append(line.get(key, None))\n",
    "\n",
    "alt_n = pd.DataFrame(result)\n",
    "\n",
    "#loop through KD data sets and read them into df\n",
    "for fn in fns:\n",
    "    zahl += 1\n",
    "    gff = gzip.open(fn, mode='rt')\n",
    "    alt = gffpd.read_gff3(gff)\n",
    "    #create dfs with lines of the gff containing either internally or externally excised IESs\n",
    "    df_alt_internal = alt.df[alt.df['attributes'].str.contains(\"PARTIAL_INTERNAL\")]\n",
    "    df_alt_external = alt.df[alt.df['attributes'].str.contains(\"PARTIAL_EXTERNAL\")]\n",
    "    #for santity checks\n",
    "    #print(len(alt.df))\n",
    "    #print(len(df_alt_internal))\n",
    "    #print(len(df_alt_external))\n",
    "    print(sam[zahl],'gff3 file has',len(alt.df),'lines.',len(df_alt_internal),\n",
    "          'are entries with internal and',len(df_alt_external),'are entries with extranl excision.')\n",
    "    \n",
    "    #store all internally exicised IESs with their length difference in a dict\n",
    "    len_d_int = {}\n",
    "\n",
    "    for row in df_alt_internal.iterrows():\n",
    "        #get the length of the alternative IES feature (end and start are column names in df)\n",
    "        ies_len = row[1].end - row[1].start\n",
    "        #get the name of the reference IES\n",
    "        IES = [a for a in row[1]['attributes'].split(\";\") if \"ies_id\" in a][0].split(\"=\")[1]\n",
    "        #get the length of the reference IES using the name stored in \"IES\" variable\n",
    "        ref_ies_len = int(df_lengths.loc[df_lengths['IES'] == IES][\"IES_length\"])\n",
    "        #is this needed? also not completely correct: count = 'support_variant=2' ( .split(\"=\")[1]) is missing)\n",
    "        #count = [a for a in row[1]['attributes'].split(\";\") if \"support_variant\" in a][0]\n",
    "        len_d_int.setdefault(IES, []).append(ref_ies_len - ies_len)\n",
    "    \n",
    "    #put the length differences (multiple for IESs possible) without IESs association in list\n",
    "    all_lens_int = []\n",
    "    for ies in len_d_int:\n",
    "        for alen in len_d_int[ies]:\n",
    "            all_lens_int.append(alen)\n",
    "    \n",
    "    #store all externally exicised IESs with their length difference in a dict\n",
    "    len_d_ext = {}\n",
    "\n",
    "    for row in df_alt_external.iterrows():\n",
    "        ies_len = row[1].end - row[1].start\n",
    "        IES = [a for a in row[1]['attributes'].split(\";\") if \"ies_id\" in a][0].split(\"=\")[1]\n",
    "        ref_ies_len = int(df_lengths.loc[df_lengths['IES'] == IES][\"IES_length\"])\n",
    "        #count = [a for a in row[1]['attributes'].split(\";\") if \"support_variant\" in a][0]\n",
    "        len_d_ext.setdefault(IES, []).append(ref_ies_len - ies_len)\n",
    "    \n",
    "    #put the length differences (multiple for IESs possible) without IESs association in list\n",
    "    all_ext_lens = []\n",
    "    for ies in len_d_ext:\n",
    "        for alen in len_d_ext[ies]:\n",
    "            all_ext_lens.append(alen)\n",
    "    \n",
    "    #store both list in a list\n",
    "    my_list = [all_ext_lens, all_lens_int]\n",
    "    #store the name of the KD with both lists in the storage dict\n",
    "    partial_storage[sam[zahl]].append(my_list)"
   ]
  },
  {
   "cell_type": "code",
   "execution_count": 21,
   "id": "76cec436",
   "metadata": {
    "scrolled": false
   },
   "outputs": [
    {
     "data": {
      "image/png": "[encoded data removed]",
      "text/plain": [
       "<Figure size 720x576 with 5 Axes>"
      ]
     },
     "metadata": {
      "needs_background": "light"
     },
     "output_type": "display_data"
    }
   ],
   "source": [
    "#set basic figure properties\n",
    "rcParams.update({'figure.autolayout': True})\n",
    "font = {'size' : 13}\n",
    "matplotlib.rcParams['font.family'] = ['Arial', 'sans-serif']\n",
    "matplotlib.rc('font', **font)\n",
    "plt.rcParams['figure.figsize'] = [10, 8]\n",
    "\n",
    "fig, ax = plt.subplots(sharex=True);\n",
    "\n",
    "ax0 = plt.subplot2grid(shape=(3,4), loc=(0,0), colspan=2)\n",
    "ax1 = plt.subplot2grid((3,4), (0,2), colspan=2)\n",
    "ax2 = plt.subplot2grid((3,4), (1,0), colspan=2)\n",
    "ax3 = plt.subplot2grid((3,4), (1,2), colspan=2)\n",
    "ax4 = plt.subplot2grid((3,4), (2,1), colspan=2)\n",
    "\n",
    "ax0.hist((partial_storage['ND7'][0][0], partial_storage['ND7'][0][1]), bins=range(-50, 51), fc='green', \n",
    "         label = ['externally excised IESs', 'internally excised IESs']);\n",
    "ax1.hist((partial_storage['ISWI1'][0][0], partial_storage['ISWI1'][0][1]), bins=range(-50, 51), fc='navy', \n",
    "         label = ['externally excised IESs', 'internally excised IESs']);\n",
    "ax2.hist((partial_storage['ICOP1'][0][0], partial_storage['ICOP1'][0][1]), bins=range(-50, 51), fc='sienna', \n",
    "         label = ['externally excised IESs', 'internally excised IESs']);\n",
    "ax3.hist((partial_storage['ICOP2'][0][0], partial_storage['ICOP2'][0][1]), bins=range(-50, 51), fc='orange', \n",
    "         label = ['externally excised IESs', 'internally excised IESs']);\n",
    "ax4.hist((partial_storage['ICOP1_2'][0][0], partial_storage['ICOP1_2'][0][1]), bins=range(-50, 51), fc='red', \n",
    "         label = ['externally excised IESs', 'internally excised IESs']);\n",
    "\n",
    "\n",
    "#add title to each subplot\n",
    "ax0.set_title('ND7-KD', fontsize = 20);\n",
    "ax1.set_title('ISWI1-KD', fontsize = 20);\n",
    "ax2.set_title('ICOP1-KD', fontsize = 20);\n",
    "ax3.set_title('ICOP2-KD', fontsize = 20);\n",
    "ax4.set_title('ICOP1_2-KD', fontsize = 20);\n",
    "\n",
    "#add dashed vertical lines at x=0\n",
    "ax0.axvline(x=0, ymin=0, ymax=1, ls='--', color='black', lw=2)\n",
    "ax1.axvline(x=0, ymin=0, ymax=1, ls='--', color='black', lw=2)\n",
    "ax2.axvline(x=0, ymin=0, ymax=1, ls='--', color='black', lw=2)\n",
    "ax3.axvline(x=0, ymin=0, ymax=1, ls='--', color='black', lw=2)\n",
    "ax4.axvline(x=0, ymin=0, ymax=1, ls='--', color='black', lw=2)\n",
    "\n",
    "\n",
    "#set the min and max for the x-axis (shared by all)\n",
    "#ax0.set_ylabel('number of IESs', fontsize=13);\n",
    "ax2.set_ylabel('number of IESs', fontsize=20);\n",
    "#ax4.set_ylabel('number of IESs', fontsize=13);\n",
    "\n",
    "ax4.set_xlim([-50,50]);\n",
    "ax4.set_xlabel('Reference IES length - Alternative IES length [bp]', fontsize=20);\n",
    "\n",
    "#ax5.set_xticks(range(-50, 50, 10));\n",
    "\n",
    "plt.suptitle(\"Alternatively excised IESs\");\n",
    "plt.tight_layout();\n",
    "#fig.text(0.001, 0.5, 'number of IESs', ha='center', va='center', rotation='vertical');\n",
    "#fig.text(0.5, 0.001, 'Reference IES length - Alternative IES length [bp]', \n",
    "#         ha='center', va='center', rotation='horizontal');\n",
    "fig.text(0.21, 0.85, 'partial external', fontsize = 16, wrap=True,\n",
    "         ha='center', va='center', rotation='horizontal');\n",
    "fig.text(0.42, 0.85, 'partial internal', fontsize = 16,wrap=True,\n",
    "         ha='center', va='center', rotation='horizontal');\n",
    "\n",
    "plt.savefig(\"ICOPs_down_int_ext_large.pdf\",bbox_inches='tight')"
   ]
  },
  {
   "cell_type": "code",
   "execution_count": null,
   "id": "8b3ea098",
   "metadata": {},
   "outputs": [],
   "source": []
  },
  {
   "cell_type": "code",
   "execution_count": null,
   "id": "813b4213",
   "metadata": {},
   "outputs": [],
   "source": []
  },
  {
   "cell_type": "code",
   "execution_count": null,
   "id": "bb7a50fc",
   "metadata": {},
   "outputs": [],
   "source": []
  },
  {
   "cell_type": "code",
   "execution_count": 257,
   "id": "3c1ef547",
   "metadata": {},
   "outputs": [],
   "source": [
    "#this script checks how many subtypes alternativly excsied IESs have\n",
    "\n",
    "gffs = [\"ND7_down_MILORD.gff3.gz\",\"ISWI1_down_MILORD.gff3.gz\",\"ICOP1_down_MILORD.gff3.gz\",\n",
    "       \"ICOP2_down_MILORD.gff3.gz\", \"ICOP1_2_MILORD.gff3.gz\"]\n",
    "Kds=[\"ND7\",\"ISWI1\",\"ICOP1\",\"ICOP2\",\"ICOP1_2\"]\n",
    "\n",
    "subs_storage = OrderedDict([(na, []) for na in Kds])\n",
    "multi_n_storage = OrderedDict([(na, []) for na in Kds])\n",
    "zahl = int(-1)\n",
    "\n",
    "for gz in gffs:\n",
    "    zahl += 1\n",
    "    alt_subs = {}\n",
    "    \n",
    "    for line in gzip.open(gz, mode='rt'):\n",
    "        if line[0] != '#':\n",
    "                atoms = line.split()  \n",
    "                ies_id = atoms[-1].split(\";\")[5].replace(\"ies_id=\", '')\n",
    "                kind = atoms[-1].split(\";\")[-2].replace(\"type=\", '')\n",
    "                subtype = atoms[-1].split(\";\")[-5].replace(\"subtype=\", '')\n",
    "                \n",
    "                if kind == 'ALTERNATIVE':\n",
    "                    alt_subs.setdefault(ies_id, []).append(subtype)\n",
    "                              \n",
    "    subs_storage[Kds[zahl]].append(alt_subs)\n",
    "    #get the alternative IES with mutliple subtypes\n",
    "    a = [a for a in alt_subs if len(alt_subs[a]) > 1]\n",
    "    b = [alt_subs[b] for b in alt_subs if len(alt_subs[b]) > 1]\n",
    "    multi_types = dict(zip(a, b))\n",
    "    #get number of subtypes for each IES\n",
    "    c = [len(alt_subs[e]) for e in alt_subs if len(alt_subs[e]) > 1]\n",
    "    multi_numbers = dict(zip(a, c))\n",
    "    \n",
    "    multi_n_storage[Kds[zahl]] = c\n",
    "    \n",
    "    \n",
    "    #get the alternative IESs with multiple and different subtypes (assuming 2 subs per IES)\n",
    "    #c = [c for c in multi if multi[c][0] != multi[c][1]]\n",
    "    #d = [multi[d] for d in multi if multi[d][0] != multi[d][1]]\n",
    "    #multi_diff = dict(zip(c, d))\n",
    "    \n",
    "    \n",
    "    \n"
   ]
  },
  {
   "cell_type": "code",
   "execution_count": 266,
   "id": "a6090efd",
   "metadata": {},
   "outputs": [
    {
     "data": {
      "text/plain": [
       "<matplotlib.legend.Legend at 0x7fb2ef3269a0>"
      ]
     },
     "execution_count": 266,
     "metadata": {},
     "output_type": "execute_result"
    },
    {
     "data": {
      "image/png": "[encoded data removed]",
      "text/plain": [
       "<Figure size 864x576 with 1 Axes>"
      ]
     },
     "metadata": {
      "needs_background": "light"
     },
     "output_type": "display_data"
    }
   ],
   "source": [
    "plt.hist(multi_n_storage.values(), color=['green','navy','sienna','orange','red'],\n",
    "        bins=np.arange(2, 6, 1), ec='white', linewidth=0.5)\n",
    "\n",
    "plt.xlabel('number of subtypes')\n",
    "plt.ylabel('number of IESs')\n",
    "plt.legend(['ND7-KD','ND7_PGM-KD','ICOP1-KD','ICOP2-KD','ICOP1_2-KD','ICOP1_2_PGM']);"
   ]
  },
  {
   "cell_type": "code",
   "execution_count": 298,
   "id": "8a3ef8c0",
   "metadata": {},
   "outputs": [
    {
     "data": {
      "text/plain": [
       "3"
      ]
     },
     "execution_count": 298,
     "metadata": {},
     "output_type": "execute_result"
    }
   ],
   "source": [
    "min(partial_storage['ISWI1'][0][1])"
   ]
  },
  {
   "cell_type": "code",
   "execution_count": null,
   "id": "d9f12b58",
   "metadata": {},
   "outputs": [],
   "source": [
    "#!/usr/bin/env python\n",
    "#Run after_ParTIES.py with the --help switch for usage information\n",
    "\n",
    "from sys import argv\n",
    "from matplotlib import *\n",
    "from numpy import mean, std, array, arange, linspace\n",
    "import matplotlib.cm as cm\n",
    "import matplotlib.style as style\n",
    "import matplotlib.pyplot as plt\n",
    "import matplotlib.ticker as mticker\n",
    "from matplotlib.colors import LogNorm\n",
    "from scipy import stats\n",
    "from scipy.odr import ODR, Model, RealData\n",
    "from statsmodels.nonparametric.smoothers_lowess import lowess\n",
    "import argparse\n",
    "\n",
    "def main(args, tick_font_size, label_font_size):\n",
    "  lines = open(args.input_file).readlines()\n",
    "  data_lines = lines[1:]\n",
    "  experiment_names = lines[0].split()\n",
    "  experiment_index = args.experiment_columns\n",
    "  experiments = [experiment_names[ind] for ind in experiment_index]\n",
    "  n_subfigs = len(experiments)\n",
    "\n",
    "  corrected_p_threshold = args.alpha/sum(range(len(experiments))) \n",
    "  #Bonferroni correction\n",
    "\n",
    "  def fit_func(B, x):\n",
    "    \"\"\"y = m*x + b\"\"\"\n",
    "    return B[0]*x + B[1]\n",
    "\n",
    "  linear = Model(fit_func)\n",
    "\n",
    "  fig = plt.figure()\n",
    "  color_generator = iter(cm.magma(arange(0, 1, 1.0/n_subfigs)))\n",
    "\n",
    "  z = 0\n",
    "  for i in range(n_subfigs):\n",
    "    experiment1 = experiments[i]\n",
    "    for j in range(n_subfigs):\n",
    "      experiment2 = experiments[j]\n",
    "      z += 1\n",
    "\n",
    "      vals_1 = {}\n",
    "      for line in data_lines:\n",
    "        atoms = line.split()\n",
    "        if atoms[experiment_index[i]] != 'NA':\n",
    "          #exclude NA values generated by ParTIES\n",
    "          score = float(atoms[experiment_index[i]])\n",
    "          ctrl_mean = mean([float(atoms[n]) for n in range(len(atoms)) if n in args.control_columns])\n",
    "          vals_1[atoms[0]] = max(score - ctrl_mean, 0)\n",
    "\n",
    "      vals_2 = {}\n",
    "      for line in data_lines:\n",
    "        atoms = line.split()\n",
    "        if atoms[experiment_index[j]] != 'NA':\n",
    "          #exclude NA values generated by ParTIES\n",
    "          score = float(atoms[experiment_index[j]])\n",
    "          ctrl_mean = mean([float(atoms[n]) for n in range(len(atoms)) if n in args.control_columns])\n",
    "          vals_2[atoms[0]] = max(score - ctrl_mean, 0)\n",
    "\n",
    "      common_keys = set(vals_1.keys()) & set(vals_2.keys())\n",
    "\n",
    "      x, y = [], []\n",
    "      for akey in common_keys:\n",
    "        x.append(vals_2[akey])\n",
    "        y.append(vals_1[akey])\n",
    "\n",
    "      slope, intercept, r_value, p_value, std_err = stats.linregress(x, y)\n",
    "      rho, rho_p = stats.spearmanr(x, y)\n",
    "\n",
    "      if i > j:\n",
    "        if len(x) > 0 and len(y) > 0:\n",
    "          plt.subplot(n_subfigs, n_subfigs, z)\n",
    "          plt.hexbin(x, y, norm=LogNorm(vmin=args.hexbin_vmin, vmax=args.hexbin_vmax), mincnt=1, cmap=cm.viridis)\n",
    "\n",
    "          max_max = max(max(x), max(y))\n",
    "          xi = arange(0, max_max, 0.01)\n",
    "          line = slope*xi+intercept\n",
    "\n",
    "          mydata = RealData(array(x), array(y), sx=std(x), sy=std(y)) \n",
    "\n",
    "          if not args.deactivate_ODR:\n",
    "            myodr = ODR(mydata, linear, beta0=[slope, intercept])\n",
    "            ODR_out = myodr.run()\n",
    "          \n",
    "            if args.verbose:\n",
    "              ODR_out.pprint()\n",
    "            \n",
    "            ODR_fitted_line = fit_func(ODR_out.beta, array(x))\n",
    "\n",
    "          lowess_arr = lowess(y, x, delta=0.01, return_sorted=True)\n",
    "          ys = lowess_arr[:,1]\n",
    "          xs = lowess_arr[:,0]\n",
    "\n",
    "          plt.plot(xs, ys,'orange',lw=args.regression_line_width)\n",
    "          plt.plot(xi, line, ls='-', color='red', lw=args.regression_line_width)\n",
    "          if not args.deactivate_ODR:\n",
    "            plt.plot(x, ODR_fitted_line, \"--\", color='gray', lw=args.regression_line_width)\n",
    "\n",
    "          plt.axis(xmax=1.01, ymax=1.01, ymin=-0.01, xmin=-0.01)\n",
    "\n",
    "          ax = plt.gca()\n",
    "          current_xticklabels = ax.get_xticks()\n",
    "          fixed_xticklabels = [\"%.1f\" % (round(current_label, 1)) for current_label in current_xticklabels]\n",
    "          current_yticklabels = ax.get_yticks()\n",
    "          fixed_yticklabels = [\"%.1f\" % (round(current_label, 1)) for current_label in current_yticklabels]\n",
    "\n",
    "          ax.yaxis.set_major_locator(mticker.FixedLocator(list(current_yticklabels)))\n",
    "          ax.xaxis.set_major_locator(mticker.FixedLocator(list(current_xticklabels)))\n",
    "\n",
    "          ax.set_xticklabels([])\n",
    "          ax.set_yticklabels([])\n",
    "\n",
    "\n",
    "          plt.tick_params(\n",
    "          axis='both',\n",
    "          which='both',\n",
    "          top=False,\n",
    "          right=False)\n",
    "\n",
    "          if j == 0:\n",
    "            #ax.set_xticklabels(fixed_xticklabels, fontsize=tick_font_size)\n",
    "            ax.set_yticklabels(fixed_yticklabels, fontsize=tick_font_size)\n",
    "\n",
    "            if args.show_axis_labels:\n",
    "              ax.set_ylabel(experiment1, fontsize=label_font_size,\n",
    "                rotation=90, style=args.font_style)\n",
    "          if i == n_subfigs -1:\n",
    "            ax.set_xticklabels(fixed_xticklabels, fontsize=tick_font_size, rotation=45)\n",
    "            if args.show_axis_labels:\n",
    "              ax.set_xlabel(experiment2, fontsize=label_font_size, style=args.font_style)\n",
    "\n",
    "\n",
    "      elif i == j:\n",
    "        plt.subplot(n_subfigs, n_subfigs, z)\n",
    "\n",
    "        plt.tick_params(\n",
    "        axis='both',\n",
    "        which='both',\n",
    "        top=False, \n",
    "        right=False)\n",
    "\n",
    "        if len(x) > 0: \n",
    "          plt.hist(x, bins=arange(0, 1, 0.025), linewidth=0.3, ec=\"white\",\n",
    "            fc=next(color_generator))\n",
    "          plt.axis(ymin=0, ymax=args.histogram_max)\n",
    "\n",
    "          ax = plt.gca()\n",
    "          ax.set_yticks(ax.get_yticks()[::2])\n",
    "\n",
    "          ax.set_xticks(arange(0, 1.2, 0.2))\n",
    "          current_xticklabels = ax.get_xticks()\n",
    "          fixed_xticklabels = [\"%.1f\" % (round(current_label, 1)) for current_label in current_xticklabels]\n",
    "          current_yticklabels = ax.get_yticks()\n",
    "          fixed_yticklabels = [\"%.1f\" % (round(current_label, 1)) for current_label in current_yticklabels]\n",
    "\n",
    "          ax.yaxis.set_major_locator(mticker.FixedLocator(list(current_yticklabels)))\n",
    "          ax.xaxis.set_major_locator(mticker.FixedLocator(list(current_xticklabels)))\n",
    "\n",
    "          ax.set_xticklabels([], fontsize=tick_font_size)\n",
    "          ax.set_yticklabels(fixed_yticklabels, fontsize=tick_font_size)\n",
    "\n",
    "          if i == n_subfigs -1:\n",
    "            ax.set_xticklabels(fixed_xticklabels, fontsize=tick_font_size, rotation=45)\n",
    "\n",
    "          if i > 0:\n",
    "            plt.tick_params(\n",
    "            axis='both',\n",
    "            labelleft=False)\n",
    "    \n",
    "      else:\n",
    "        plt.subplot(n_subfigs, n_subfigs, z)\n",
    "        ax = plt.gca()\n",
    "        current_xticklabels = ax.get_xticks()\n",
    "        fixed_xticklabels = [\"%.1f\" % (round(current_label, 1)) for current_label in current_xticklabels]\n",
    "\n",
    "        ax.yaxis.set_major_locator(mticker.FixedLocator(list(current_yticklabels)))\n",
    "        ax.xaxis.set_major_locator(mticker.FixedLocator(list(current_xticklabels)))\n",
    "        ax.set_xticklabels(fixed_xticklabels, fontsize=tick_font_size)\n",
    "        \n",
    "\n",
    "        if not args.use_pearson:\n",
    "          ax.set_facecolor(cm.YlGnBu(rho))\n",
    "          if rho > 0.5:\n",
    "            if rho_p < corrected_p_threshold:\n",
    "              plt.text(0.2, 0.4, \"%.2f\" % round(rho, 3), fontsize=1.5*label_font_size, color='white')\n",
    "            else:\n",
    "              plt.text(0.2, 0.4, \"%.2f^\" % round(rho, 3), fontsize=1.5*label_font_size, color='white')\n",
    "          else:\n",
    "            if rho_p < corrected_p_threshold:\n",
    "              plt.text(0.2, 0.4, \"%.2f\" % round(rho, 3), fontsize=1.5*label_font_size, color='black')\n",
    "            else:\n",
    "              plt.text(0.2, 0.4, \"%.2f^\" % round(rho, 3), fontsize=1.5*label_font_size, color='black')\n",
    "        else:\n",
    "          ax.set_facecolor(cm.YlGnBu(r_value))\n",
    "          if r_value > 0.5:\n",
    "            plt.text(0.2, 0.4, \"%.2f\" % round(r_value, 3), fontsize=1.5*label_font_size, color='white')\n",
    "          else:\n",
    "            plt.text(0.2, 0.4, \"%.2f\" % round(r_value, 3), fontsize=1.5*label_font_size, color='black')\n",
    "\n",
    "        plt.tick_params(\n",
    "        axis='both',\n",
    "        which='both',\n",
    "        bottom=False,\n",
    "        top=False,\n",
    "        left=False,\n",
    "        right=False,\n",
    "        labelbottom=False,\n",
    "        labelleft=False,\n",
    "        labelright=False)\n",
    "\n",
    "        ax.spines['top'].set_visible(False)\n",
    "        ax.spines['right'].set_visible(False)\n",
    "        ax.spines['bottom'].set_visible(False)\n",
    "        ax.spines['left'].set_visible(False)\n",
    "  \n",
    "  if args.show_colorbar:\n",
    "    fig.subplots_adjust(right=0.8)\n",
    "    cbar_ax = fig.add_axes([0.85, 0.4, 0.015, 0.4])\n",
    "\n",
    "    cb_label = 'correlation plot hexbin scale (log10)'\n",
    "    cb = plt.colorbar(cax=cbar_ax, drawedges=False,\n",
    "      ticks=range(args.hexbin_vmin, args.hexbin_vmax+1), label=cb_label)\n",
    "    #current_yticklabels = cbar_ax.get_yticks()\n",
    "    #fixed_yticklabels = [\"%.1f\" % (round(current_label, 1)) for current_label in current_yticklabels]\n",
    "\n",
    "    cbar_ax.set_yticklabels(range(args.hexbin_vmin, args.hexbin_vmax+1), fontsize=tick_font_size)\n",
    "    cbar_ax.set_ylabel(cb_label, fontsize=label_font_size)\n",
    "    cb.outline.set_linewidth(1)\n",
    "    #cb.ax.get_children()[4].set_linewidths(1) \n",
    "\n",
    "  plt.savefig(args.output_matrix_image, dpi=((args.image_resolution)))\n",
    "\n",
    "  \n",
    "if __name__ == \"__main__\":\n",
    "  parser = argparse.ArgumentParser(description=\n",
    "\"\"\"Using the IES retention scores produced by ParTIES, generate a correlation matrix.\n",
    "As an example, the following command should generate an image like the one in\n",
    "Fig 3A of Swart et al. (all text between quotes type on a single line):\n",
    "'python3.6 after_ParTIES.py --input_file ies_retention.tab \n",
    "--output_matrix_image ies_retention_knockdown_matrix.png \n",
    "--experiment_columns 1 2 3 10 6 5 7 4 9 12 --control_columns 11 12 13 14'\n",
    "\"\"\")\n",
    "\n",
    "  required_arg_group = parser.add_argument_group(\"required options\")\n",
    "  required_arg_group.add_argument(\"--input_file\", required=True,\n",
    "    help=\"Tab delimited file of IES retention scores from ParTIES.\")\n",
    "  required_arg_group.add_argument(\"--output_matrix_image\", required=True,\n",
    "    help=\"Output file for correlation matrix image. The suffix of the filename \\\n",
    "will determine the image type (e.g. .png = png file). For a few experiments pdf \\\n",
    "images can be generated, but for many onscreen rendering becomes too slow, \\\n",
    "and so either jpg or png files should be created.\")\n",
    "  required_arg_group.add_argument('--experiment_columns', metavar='E', type=int, nargs='+',\n",
    "    required=True, help='One or more columns of IES retention scores from an \\\n",
    "experimental series of knockdowns.')\n",
    "  required_arg_group.add_argument('--control_columns', metavar='N', type=int, nargs='+',\n",
    "    required=True, help='One or more columns of IES retention scores from \\\n",
    "negative controls of experimental knockdowns.')\n",
    "\n",
    "  optional_arg_group = parser.add_argument_group(\"Optional options\")\n",
    "  optional_arg_group.add_argument(\"--use_pearson\", action=\"store_true\",\n",
    "    help=\"Add this option if Pearson's correlation is to be used instead of \\\n",
    "Spearman's correlation. In this case no p-value testing is performed.\")\n",
    "  optional_arg_group.add_argument(\"--alpha\", default=0.01, type=float,\n",
    "    help=\"Alpha used for p-value testing of Spearman's correlation coefficient \\\n",
    "(default: %(default)s); a Bonferroni correction is applied to this before \\\n",
    "testing, and when p > alpha/(number of hypotheses), a '^' character is shown \\\n",
    "next to the calculated correlation coefficient in the upper diagonal matrix. \\\n",
    "For example, for 10 experimental knockdowns the number of hypotheses is 45.\")\n",
    "  optional_arg_group.add_argument(\"--deactivate_ODR\", action=\"store_true\", default=False,\n",
    "    help=\"Use this flag to turn of ODR for a speedup (default: %(default)s).\")\n",
    "  optional_arg_group.add_argument(\"--image_resolution\", default=400, type=int,\n",
    "    help=\"Change image resolution (default (in DPI): %(default)s).\")\n",
    "  optional_arg_group.add_argument(\"--base_font_size\", default=14, type=int,\n",
    "    help=\"Change font size (default: %(default)s).\")\n",
    "  optional_arg_group.add_argument(\"--font_style\", default='italic',\n",
    "    help=\"Change font style (default: %(default)s); options = normal, italic \\\n",
    "or oblique.\")\n",
    "  optional_arg_group.add_argument(\"--regression_line_width\", default=1.2, type=int,\n",
    "    help=\"Thickness of regression lines (default: %(default)s).\")\n",
    "  optional_arg_group.add_argument(\"--show_colorbar\", \n",
    "    help=\"Show colorbar scale of hexagonal bins.\", action=\"store_true\")\n",
    "  optional_arg_group.add_argument(\"--show_axis_labels\", \n",
    "    help=\"Show labels on axes\", default=True)\n",
    "  optional_arg_group.add_argument(\"--histogram_max\", default=9000, type=int,\n",
    "    help=\"Maximum value of y-axis of the matrix diagonal's histograms (default: %(default)s).\")\n",
    "  optional_arg_group.add_argument(\"--hexbin_vmin\", default=1, type=int,\n",
    "    help=\"Minimum value of hexagonal bin counts (log10 scale) (default: %(default)s).\")\n",
    "  optional_arg_group.add_argument(\"--hexbin_vmax\", default=1000, type=int,\n",
    "    help=\"Maximum value of hexagonal bin counts (log10 scale) (default: %(default)s).\")\n",
    "\n",
    "  logging_arg_group = parser.add_argument_group(\"logging options\")\n",
    "  logging_arg_group.add_argument(\"--verbose\", help=\"Display ODR output \\\n",
    "that may be useful for diagnostic purposes.\", action=\"store_true\")\n",
    "\n",
    "  args = parser.parse_args()\n",
    "\n",
    "  style.use('classic')\n",
    "  #for the moment revert to classic style due to problems with axis\n",
    "  #ticking in matplotlib 2.0.0\n",
    "  rcParams['font.sans-serif'] = 'Arial'\n",
    "  tick_font_size = args.base_font_size - len(args.experiment_columns)\n",
    "  label_font_size = args.base_font_size - 0.75*len(args.experiment_columns)\n",
    "\n",
    "  main(args, tick_font_size, label_font_size)\n",
    "\n",
    "\n",
    "# vim: set sts=2 ts=2 sw=2:"
   ]
  }
 ],
 "metadata": {
  "kernelspec": {
   "display_name": "Python 3 (ipykernel)",
   "language": "python",
   "name": "python3"
  },
  "language_info": {
   "codemirror_mode": {
    "name": "ipython",
    "version": 3
   },
   "file_extension": ".py",
   "mimetype": "text/x-python",
   "name": "python",
   "nbconvert_exporter": "python",
   "pygments_lexer": "ipython3",
   "version": "3.9.5"
  }
 },
 "nbformat": 4,
 "nbformat_minor": 5
}
