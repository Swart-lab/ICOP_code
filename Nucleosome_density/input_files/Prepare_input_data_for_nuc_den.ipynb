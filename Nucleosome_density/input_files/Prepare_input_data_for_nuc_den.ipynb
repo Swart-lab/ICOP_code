{
 "cells": [
  {
   "cell_type": "markdown",
   "id": "3fd39fc7",
   "metadata": {},
   "source": [
    "# Prepare the input data for nucleosome density analysis\n",
    "\n",
    "### Aim\n",
    "This notebook prepares the tables used as input for the nucleosome density analysis (jupyter notebook). \n",
    "\n",
    "### Input files\n",
    "- IES length information: a text file containing IES IDs and the corresponding lengths (in bp)\n",
    "- read counts on IESs from nucleosomal samples: text files with read counts (htseq-count output) on IESs from whole-genome sequencing conducted on DNase digested new MAC DNA. Provide experimental sample (gene-of-interest_PGM-KD) and control sample (ND7_PGM-KD).\n",
    "- read counts on IESs from undigested samples: text files with read counts (htseq-count output) on IESs from whole-genome sequencing conducted on non-digested new MAC DNA. Provide experimental sample (gene-of-interest_PGM-KD) and control sample (ND7_PGM-KD). This should be exactly the same DNA that was used for DNase digest for nucleosomal sample. It is used for normalization\n",
    "\n",
    "### Parameters \n",
    "- newfilename: enter how the output file should be called\n",
    "- fns: provide names of input files \n",
    "\n",
    "### Output\n",
    "Text file containing the following column: IES ID, IES length, read counts from the provided samples"
   ]
  },
  {
   "cell_type": "code",
   "execution_count": 1,
   "id": "830ded90",
   "metadata": {},
   "outputs": [],
   "source": [
    "import gzip"
   ]
  },
  {
   "cell_type": "code",
   "execution_count": 2,
   "id": "5d3c62e8",
   "metadata": {},
   "outputs": [],
   "source": [
    "# enter how the new table should be saved\n",
    "newfilename = 'ICOPs.merged.lengths.IES.downsampled.htseq-count.txt.gz'\n",
    "\n",
    "rec_d = {}\n",
    "\n",
    "# specify the files that need to be combined\n",
    "fns = ['IES_length.txt.gz',\n",
    "       'ND7_PGM_DNase.IES.downsampled.htseq-count.txt.gz', \n",
    "       'ND7_PGM_MAC.IES.htseq-count.txt.gz', \n",
    "       'ICOP1_2_PGM_DNase.IES.htseq-count.txt.gz', \n",
    "       'ICOP1_2_PGM_MAC.IES.downsampled.htseq-count.txt.gz']"
   ]
  },
  {
   "cell_type": "code",
   "execution_count": 3,
   "id": "3fb048a9",
   "metadata": {},
   "outputs": [],
   "source": [
    "for fn in fns:\n",
    "    # retrieve the file name\n",
    "    kd = fn.split(\".\")[0]\n",
    "    #store IES and their values for each input file in a dictionary\n",
    "    with gzip.open(fn, mode='rt') as fh:\n",
    "        for line in fh.readlines():\n",
    "            atoms = line.split()\n",
    "            rec_d.setdefault(kd, {}) # provide file name as key\n",
    "            rec_d[kd][atoms[0]] = atoms[1] # fill IES IDs and their values as keys and values"
   ]
  },
  {
   "cell_type": "code",
   "execution_count": 4,
   "id": "20a293cb",
   "metadata": {},
   "outputs": [],
   "source": [
    "kds = list(rec_d.keys())\n",
    "ies_names = list(rec_d[\"IES_length\"].keys())\n",
    "\n",
    "#generate the header line of the output table \n",
    "header_str = \"IES \" + \" \".join([akd for akd in kds])"
   ]
  },
  {
   "cell_type": "code",
   "execution_count": 5,
   "id": "e897feb1",
   "metadata": {},
   "outputs": [],
   "source": [
    "#generate the subsequent lines and store each line as an element in a list\n",
    "lines = list()\n",
    "lines.append(header_str)\n",
    "\n",
    "#each IES and its values for the different samples will be one line\n",
    "for ies in ies_names:\n",
    "    counter = 0\n",
    "    aline = ies + \" \"\n",
    "    for kd in rec_d:\n",
    "        counter += 1\n",
    "        # the if statement ensures that the last line ends not on the delimiter\n",
    "        # delimiter at end of line screws up pandas import\n",
    "        if counter == len(rec_d):\n",
    "            aline += rec_d[kd][ies]\n",
    "        else:\n",
    "            aline += rec_d[kd][ies] + \" \"\n",
    "    lines.append(aline)"
   ]
  },
  {
   "cell_type": "code",
   "execution_count": 6,
   "id": "becd61dd",
   "metadata": {},
   "outputs": [],
   "source": [
    "# save the lines to a file that's name is specified in newfilename\n",
    "with gzip.open(newfilename, 'wt') as f:\n",
    "    for i in range(len(lines)):\n",
    "        f.write(lines[i]+\"\\n\")"
   ]
  }
 ],
 "metadata": {
  "kernelspec": {
   "display_name": "Python 3 (ipykernel)",
   "language": "python",
   "name": "python3"
  },
  "language_info": {
   "codemirror_mode": {
    "name": "ipython",
    "version": 3
   },
   "file_extension": ".py",
   "mimetype": "text/x-python",
   "name": "python",
   "nbconvert_exporter": "python",
   "pygments_lexer": "ipython3",
   "version": "3.9.5"
  }
 },
 "nbformat": 4,
 "nbformat_minor": 5
}
